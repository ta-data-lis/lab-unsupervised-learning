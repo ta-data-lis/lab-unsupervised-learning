{
 "cells": [
  {
   "cell_type": "markdown",
   "metadata": {},
   "source": [
    "# Before your start:\n",
    "- Read the README.md file\n",
    "- Comment as much as you can and use the resources in the README.md file\n",
    "- Happy learning!"
   ]
  },
  {
   "cell_type": "code",
   "execution_count": 1,
   "metadata": {},
   "outputs": [],
   "source": [
    "# Import your libraries:\n",
    "\n",
    "%matplotlib inline\n",
    "\n",
    "import matplotlib.pyplot as plt\n",
    "import seaborn as sns\n",
    "import numpy as np\n",
    "import pandas as pd "
   ]
  },
  {
   "cell_type": "markdown",
   "metadata": {},
   "source": [
    "# Challenge 1 - Import and Describe the Dataset\n",
    "\n",
    "In this lab, we will use a dataset containing information about customer preferences. We will look at how much each customer spends in a year on each subcategory in the grocery store and try to find similarities using clustering.\n",
    "\n",
    "The origin of the dataset is [here](https://archive.ics.uci.edu/ml/datasets/wholesale+customers)."
   ]
  },
  {
   "cell_type": "code",
   "execution_count": 2,
   "metadata": {},
   "outputs": [],
   "source": [
    "# loading the data:\n",
    "customers = pd.read_csv('../Wholesale customers data.csv')"
   ]
  },
  {
   "cell_type": "markdown",
   "metadata": {},
   "source": [
    "#### Explore the dataset with mathematical and visualization techniques. What do you find?\n",
    "\n",
    "Checklist:\n",
    "\n",
    "* What does each column mean?\n",
    "* Any categorical data to convert?\n",
    "* Any missing data to remove?\n",
    "* Column collinearity - any high correlations?\n",
    "* Descriptive statistics - any outliers to remove?\n",
    "* Column-wise data distribution - is the distribution skewed?\n",
    "* Etc.\n",
    "\n",
    "Additional info: Over a century ago, an Italian economist named Vilfredo Pareto discovered that roughly 20% of the customers account for 80% of the typical retail sales. This is called the [Pareto principle](https://en.wikipedia.org/wiki/Pareto_principle). Check if this dataset displays this characteristic."
   ]
  },
  {
   "cell_type": "code",
   "execution_count": 3,
   "metadata": {},
   "outputs": [
    {
     "data": {
      "text/html": [
       "<div>\n",
       "<style scoped>\n",
       "    .dataframe tbody tr th:only-of-type {\n",
       "        vertical-align: middle;\n",
       "    }\n",
       "\n",
       "    .dataframe tbody tr th {\n",
       "        vertical-align: top;\n",
       "    }\n",
       "\n",
       "    .dataframe thead th {\n",
       "        text-align: right;\n",
       "    }\n",
       "</style>\n",
       "<table border=\"1\" class=\"dataframe\">\n",
       "  <thead>\n",
       "    <tr style=\"text-align: right;\">\n",
       "      <th></th>\n",
       "      <th>Channel</th>\n",
       "      <th>Region</th>\n",
       "      <th>Fresh</th>\n",
       "      <th>Milk</th>\n",
       "      <th>Grocery</th>\n",
       "      <th>Frozen</th>\n",
       "      <th>Detergents_Paper</th>\n",
       "      <th>Delicassen</th>\n",
       "    </tr>\n",
       "  </thead>\n",
       "  <tbody>\n",
       "    <tr>\n",
       "      <th>0</th>\n",
       "      <td>2</td>\n",
       "      <td>3</td>\n",
       "      <td>12669</td>\n",
       "      <td>9656</td>\n",
       "      <td>7561</td>\n",
       "      <td>214</td>\n",
       "      <td>2674</td>\n",
       "      <td>1338</td>\n",
       "    </tr>\n",
       "    <tr>\n",
       "      <th>1</th>\n",
       "      <td>2</td>\n",
       "      <td>3</td>\n",
       "      <td>7057</td>\n",
       "      <td>9810</td>\n",
       "      <td>9568</td>\n",
       "      <td>1762</td>\n",
       "      <td>3293</td>\n",
       "      <td>1776</td>\n",
       "    </tr>\n",
       "    <tr>\n",
       "      <th>2</th>\n",
       "      <td>2</td>\n",
       "      <td>3</td>\n",
       "      <td>6353</td>\n",
       "      <td>8808</td>\n",
       "      <td>7684</td>\n",
       "      <td>2405</td>\n",
       "      <td>3516</td>\n",
       "      <td>7844</td>\n",
       "    </tr>\n",
       "    <tr>\n",
       "      <th>3</th>\n",
       "      <td>1</td>\n",
       "      <td>3</td>\n",
       "      <td>13265</td>\n",
       "      <td>1196</td>\n",
       "      <td>4221</td>\n",
       "      <td>6404</td>\n",
       "      <td>507</td>\n",
       "      <td>1788</td>\n",
       "    </tr>\n",
       "    <tr>\n",
       "      <th>4</th>\n",
       "      <td>2</td>\n",
       "      <td>3</td>\n",
       "      <td>22615</td>\n",
       "      <td>5410</td>\n",
       "      <td>7198</td>\n",
       "      <td>3915</td>\n",
       "      <td>1777</td>\n",
       "      <td>5185</td>\n",
       "    </tr>\n",
       "  </tbody>\n",
       "</table>\n",
       "</div>"
      ],
      "text/plain": [
       "   Channel  Region  Fresh  Milk  Grocery  Frozen  Detergents_Paper  Delicassen\n",
       "0        2       3  12669  9656     7561     214              2674        1338\n",
       "1        2       3   7057  9810     9568    1762              3293        1776\n",
       "2        2       3   6353  8808     7684    2405              3516        7844\n",
       "3        1       3  13265  1196     4221    6404               507        1788\n",
       "4        2       3  22615  5410     7198    3915              1777        5185"
      ]
     },
     "execution_count": 3,
     "metadata": {},
     "output_type": "execute_result"
    }
   ],
   "source": [
    "# Your code here:\n",
    "customers.head()"
   ]
  },
  {
   "cell_type": "code",
   "execution_count": 4,
   "metadata": {},
   "outputs": [],
   "source": [
    "# Your observations here"
   ]
  },
  {
   "cell_type": "code",
   "execution_count": 5,
   "metadata": {},
   "outputs": [
    {
     "data": {
      "text/plain": [
       "'\\n1) FRESH: annual spending (m.u.) on fresh products (Continuous);\\n2) MILK: annual spending (m.u.) on milk products (Continuous);\\n3) GROCERY: annual spending (m.u.)on grocery products (Continuous);\\n4) FROZEN: annual spending (m.u.)on frozen products (Continuous)\\n5) DETERGENTS_PAPER: annual spending (m.u.) on detergents and paper products (Continuous)\\n6) DELICATESSEN: annual spending (m.u.)on and delicatessen products (Continuous);\\n7) CHANNEL: customersâ€™ Channel - Horeca (Hotel/Restaurant/CafÃ©) or Retail channel (Nominal)\\n8) REGION: customersâ€™ Region â€“ Lisbon, Oporto or Other (Nominal)\\n\\nREGION Frequency\\nLisbon 77\\nOporto 47\\nOther Region 316\\nTotal 440\\n\\nCHANNEL Frequency\\nHoreca 298\\nRetail 142\\nTotal 440\\n'"
      ]
     },
     "execution_count": 5,
     "metadata": {},
     "output_type": "execute_result"
    }
   ],
   "source": [
    "'''\n",
    "1) FRESH: annual spending (m.u.) on fresh products (Continuous);\n",
    "2) MILK: annual spending (m.u.) on milk products (Continuous);\n",
    "3) GROCERY: annual spending (m.u.)on grocery products (Continuous);\n",
    "4) FROZEN: annual spending (m.u.)on frozen products (Continuous)\n",
    "5) DETERGENTS_PAPER: annual spending (m.u.) on detergents and paper products (Continuous)\n",
    "6) DELICATESSEN: annual spending (m.u.)on and delicatessen products (Continuous);\n",
    "7) CHANNEL: customersâ€™ Channel - Horeca (Hotel/Restaurant/CafÃ©) or Retail channel (Nominal)\n",
    "8) REGION: customersâ€™ Region â€“ Lisbon, Oporto or Other (Nominal)\n",
    "\n",
    "REGION Frequency\n",
    "Lisbon 77\n",
    "Oporto 47\n",
    "Other Region 316\n",
    "Total 440\n",
    "\n",
    "CHANNEL Frequency\n",
    "Horeca 298\n",
    "Retail 142\n",
    "Total 440\n",
    "'''"
   ]
  },
  {
   "cell_type": "code",
   "execution_count": 6,
   "metadata": {},
   "outputs": [
    {
     "data": {
      "text/plain": [
       "Channel             int64\n",
       "Region              int64\n",
       "Fresh               int64\n",
       "Milk                int64\n",
       "Grocery             int64\n",
       "Frozen              int64\n",
       "Detergents_Paper    int64\n",
       "Delicassen          int64\n",
       "dtype: object"
      ]
     },
     "execution_count": 6,
     "metadata": {},
     "output_type": "execute_result"
    }
   ],
   "source": [
    "customers.dtypes #no categorical data to convert. great!"
   ]
  },
  {
   "cell_type": "code",
   "execution_count": 7,
   "metadata": {},
   "outputs": [
    {
     "data": {
      "text/plain": [
       "Channel             0\n",
       "Region              0\n",
       "Fresh               0\n",
       "Milk                0\n",
       "Grocery             0\n",
       "Frozen              0\n",
       "Detergents_Paper    0\n",
       "Delicassen          0\n",
       "dtype: int64"
      ]
     },
     "execution_count": 7,
     "metadata": {},
     "output_type": "execute_result"
    }
   ],
   "source": [
    "customers.isnull().sum() #no missing values to handle. great!"
   ]
  },
  {
   "cell_type": "code",
   "execution_count": 8,
   "metadata": {},
   "outputs": [
    {
     "data": {
      "text/html": [
       "<div>\n",
       "<style scoped>\n",
       "    .dataframe tbody tr th:only-of-type {\n",
       "        vertical-align: middle;\n",
       "    }\n",
       "\n",
       "    .dataframe tbody tr th {\n",
       "        vertical-align: top;\n",
       "    }\n",
       "\n",
       "    .dataframe thead th {\n",
       "        text-align: right;\n",
       "    }\n",
       "</style>\n",
       "<table border=\"1\" class=\"dataframe\">\n",
       "  <thead>\n",
       "    <tr style=\"text-align: right;\">\n",
       "      <th></th>\n",
       "      <th>Channel</th>\n",
       "      <th>Region</th>\n",
       "      <th>Fresh</th>\n",
       "      <th>Milk</th>\n",
       "      <th>Grocery</th>\n",
       "      <th>Frozen</th>\n",
       "      <th>Detergents_Paper</th>\n",
       "      <th>Delicassen</th>\n",
       "    </tr>\n",
       "  </thead>\n",
       "  <tbody>\n",
       "    <tr>\n",
       "      <th>Channel</th>\n",
       "      <td>1.000000</td>\n",
       "      <td>0.062028</td>\n",
       "      <td>-0.169172</td>\n",
       "      <td>0.460720</td>\n",
       "      <td>0.608792</td>\n",
       "      <td>-0.202046</td>\n",
       "      <td>0.636026</td>\n",
       "      <td>0.056011</td>\n",
       "    </tr>\n",
       "    <tr>\n",
       "      <th>Region</th>\n",
       "      <td>0.062028</td>\n",
       "      <td>1.000000</td>\n",
       "      <td>0.055287</td>\n",
       "      <td>0.032288</td>\n",
       "      <td>0.007696</td>\n",
       "      <td>-0.021044</td>\n",
       "      <td>-0.001483</td>\n",
       "      <td>0.045212</td>\n",
       "    </tr>\n",
       "    <tr>\n",
       "      <th>Fresh</th>\n",
       "      <td>-0.169172</td>\n",
       "      <td>0.055287</td>\n",
       "      <td>1.000000</td>\n",
       "      <td>0.100510</td>\n",
       "      <td>-0.011854</td>\n",
       "      <td>0.345881</td>\n",
       "      <td>-0.101953</td>\n",
       "      <td>0.244690</td>\n",
       "    </tr>\n",
       "    <tr>\n",
       "      <th>Milk</th>\n",
       "      <td>0.460720</td>\n",
       "      <td>0.032288</td>\n",
       "      <td>0.100510</td>\n",
       "      <td>1.000000</td>\n",
       "      <td>0.728335</td>\n",
       "      <td>0.123994</td>\n",
       "      <td>0.661816</td>\n",
       "      <td>0.406368</td>\n",
       "    </tr>\n",
       "    <tr>\n",
       "      <th>Grocery</th>\n",
       "      <td>0.608792</td>\n",
       "      <td>0.007696</td>\n",
       "      <td>-0.011854</td>\n",
       "      <td>0.728335</td>\n",
       "      <td>1.000000</td>\n",
       "      <td>-0.040193</td>\n",
       "      <td>0.924641</td>\n",
       "      <td>0.205497</td>\n",
       "    </tr>\n",
       "    <tr>\n",
       "      <th>Frozen</th>\n",
       "      <td>-0.202046</td>\n",
       "      <td>-0.021044</td>\n",
       "      <td>0.345881</td>\n",
       "      <td>0.123994</td>\n",
       "      <td>-0.040193</td>\n",
       "      <td>1.000000</td>\n",
       "      <td>-0.131525</td>\n",
       "      <td>0.390947</td>\n",
       "    </tr>\n",
       "    <tr>\n",
       "      <th>Detergents_Paper</th>\n",
       "      <td>0.636026</td>\n",
       "      <td>-0.001483</td>\n",
       "      <td>-0.101953</td>\n",
       "      <td>0.661816</td>\n",
       "      <td>0.924641</td>\n",
       "      <td>-0.131525</td>\n",
       "      <td>1.000000</td>\n",
       "      <td>0.069291</td>\n",
       "    </tr>\n",
       "    <tr>\n",
       "      <th>Delicassen</th>\n",
       "      <td>0.056011</td>\n",
       "      <td>0.045212</td>\n",
       "      <td>0.244690</td>\n",
       "      <td>0.406368</td>\n",
       "      <td>0.205497</td>\n",
       "      <td>0.390947</td>\n",
       "      <td>0.069291</td>\n",
       "      <td>1.000000</td>\n",
       "    </tr>\n",
       "  </tbody>\n",
       "</table>\n",
       "</div>"
      ],
      "text/plain": [
       "                   Channel    Region     Fresh      Milk   Grocery    Frozen  \\\n",
       "Channel           1.000000  0.062028 -0.169172  0.460720  0.608792 -0.202046   \n",
       "Region            0.062028  1.000000  0.055287  0.032288  0.007696 -0.021044   \n",
       "Fresh            -0.169172  0.055287  1.000000  0.100510 -0.011854  0.345881   \n",
       "Milk              0.460720  0.032288  0.100510  1.000000  0.728335  0.123994   \n",
       "Grocery           0.608792  0.007696 -0.011854  0.728335  1.000000 -0.040193   \n",
       "Frozen           -0.202046 -0.021044  0.345881  0.123994 -0.040193  1.000000   \n",
       "Detergents_Paper  0.636026 -0.001483 -0.101953  0.661816  0.924641 -0.131525   \n",
       "Delicassen        0.056011  0.045212  0.244690  0.406368  0.205497  0.390947   \n",
       "\n",
       "                  Detergents_Paper  Delicassen  \n",
       "Channel                   0.636026    0.056011  \n",
       "Region                   -0.001483    0.045212  \n",
       "Fresh                    -0.101953    0.244690  \n",
       "Milk                      0.661816    0.406368  \n",
       "Grocery                   0.924641    0.205497  \n",
       "Frozen                   -0.131525    0.390947  \n",
       "Detergents_Paper          1.000000    0.069291  \n",
       "Delicassen                0.069291    1.000000  "
      ]
     },
     "execution_count": 8,
     "metadata": {},
     "output_type": "execute_result"
    }
   ],
   "source": [
    "customers_corr = customers.corr()\n",
    "customers_corr"
   ]
  },
  {
   "cell_type": "code",
   "execution_count": 9,
   "metadata": {},
   "outputs": [
    {
     "data": {
      "text/html": [
       "<style  type=\"text/css\" >\n",
       "    #T_1615313a_e20a_11e9_8e90_c8bcc89f66f8row0_col0 {\n",
       "            background-color:  #006837;\n",
       "            color:  #f1f1f1;\n",
       "        }    #T_1615313a_e20a_11e9_8e90_c8bcc89f66f8row0_col1 {\n",
       "            background-color:  #f67a49;\n",
       "            color:  #000000;\n",
       "        }    #T_1615313a_e20a_11e9_8e90_c8bcc89f66f8row0_col2 {\n",
       "            background-color:  #b30d26;\n",
       "            color:  #f1f1f1;\n",
       "        }    #T_1615313a_e20a_11e9_8e90_c8bcc89f66f8row0_col3 {\n",
       "            background-color:  #ebf7a3;\n",
       "            color:  #000000;\n",
       "        }    #T_1615313a_e20a_11e9_8e90_c8bcc89f66f8row0_col4 {\n",
       "            background-color:  #b3df72;\n",
       "            color:  #000000;\n",
       "        }    #T_1615313a_e20a_11e9_8e90_c8bcc89f66f8row0_col5 {\n",
       "            background-color:  #a50026;\n",
       "            color:  #f1f1f1;\n",
       "        }    #T_1615313a_e20a_11e9_8e90_c8bcc89f66f8row0_col6 {\n",
       "            background-color:  #a7d96b;\n",
       "            color:  #000000;\n",
       "        }    #T_1615313a_e20a_11e9_8e90_c8bcc89f66f8row0_col7 {\n",
       "            background-color:  #f57547;\n",
       "            color:  #000000;\n",
       "        }    #T_1615313a_e20a_11e9_8e90_c8bcc89f66f8row1_col0 {\n",
       "            background-color:  #f67a49;\n",
       "            color:  #000000;\n",
       "        }    #T_1615313a_e20a_11e9_8e90_c8bcc89f66f8row1_col1 {\n",
       "            background-color:  #006837;\n",
       "            color:  #f1f1f1;\n",
       "        }    #T_1615313a_e20a_11e9_8e90_c8bcc89f66f8row1_col2 {\n",
       "            background-color:  #f57547;\n",
       "            color:  #000000;\n",
       "        }    #T_1615313a_e20a_11e9_8e90_c8bcc89f66f8row1_col3 {\n",
       "            background-color:  #f26841;\n",
       "            color:  #000000;\n",
       "        }    #T_1615313a_e20a_11e9_8e90_c8bcc89f66f8row1_col4 {\n",
       "            background-color:  #ec5c3b;\n",
       "            color:  #000000;\n",
       "        }    #T_1615313a_e20a_11e9_8e90_c8bcc89f66f8row1_col5 {\n",
       "            background-color:  #e54e35;\n",
       "            color:  #000000;\n",
       "        }    #T_1615313a_e20a_11e9_8e90_c8bcc89f66f8row1_col6 {\n",
       "            background-color:  #ea5739;\n",
       "            color:  #000000;\n",
       "        }    #T_1615313a_e20a_11e9_8e90_c8bcc89f66f8row1_col7 {\n",
       "            background-color:  #f47044;\n",
       "            color:  #000000;\n",
       "        }    #T_1615313a_e20a_11e9_8e90_c8bcc89f66f8row2_col0 {\n",
       "            background-color:  #b30d26;\n",
       "            color:  #f1f1f1;\n",
       "        }    #T_1615313a_e20a_11e9_8e90_c8bcc89f66f8row2_col1 {\n",
       "            background-color:  #f57547;\n",
       "            color:  #000000;\n",
       "        }    #T_1615313a_e20a_11e9_8e90_c8bcc89f66f8row2_col2 {\n",
       "            background-color:  #006837;\n",
       "            color:  #f1f1f1;\n",
       "        }    #T_1615313a_e20a_11e9_8e90_c8bcc89f66f8row2_col3 {\n",
       "            background-color:  #f98e52;\n",
       "            color:  #000000;\n",
       "        }    #T_1615313a_e20a_11e9_8e90_c8bcc89f66f8row2_col4 {\n",
       "            background-color:  #e75337;\n",
       "            color:  #000000;\n",
       "        }    #T_1615313a_e20a_11e9_8e90_c8bcc89f66f8row2_col5 {\n",
       "            background-color:  #fff1a8;\n",
       "            color:  #000000;\n",
       "        }    #T_1615313a_e20a_11e9_8e90_c8bcc89f66f8row2_col6 {\n",
       "            background-color:  #ce2827;\n",
       "            color:  #f1f1f1;\n",
       "        }    #T_1615313a_e20a_11e9_8e90_c8bcc89f66f8row2_col7 {\n",
       "            background-color:  #fed27f;\n",
       "            color:  #000000;\n",
       "        }    #T_1615313a_e20a_11e9_8e90_c8bcc89f66f8row3_col0 {\n",
       "            background-color:  #ebf7a3;\n",
       "            color:  #000000;\n",
       "        }    #T_1615313a_e20a_11e9_8e90_c8bcc89f66f8row3_col1 {\n",
       "            background-color:  #f26841;\n",
       "            color:  #000000;\n",
       "        }    #T_1615313a_e20a_11e9_8e90_c8bcc89f66f8row3_col2 {\n",
       "            background-color:  #f98e52;\n",
       "            color:  #000000;\n",
       "        }    #T_1615313a_e20a_11e9_8e90_c8bcc89f66f8row3_col3 {\n",
       "            background-color:  #006837;\n",
       "            color:  #f1f1f1;\n",
       "        }    #T_1615313a_e20a_11e9_8e90_c8bcc89f66f8row3_col4 {\n",
       "            background-color:  #75c465;\n",
       "            color:  #000000;\n",
       "        }    #T_1615313a_e20a_11e9_8e90_c8bcc89f66f8row3_col5 {\n",
       "            background-color:  #fa9b58;\n",
       "            color:  #000000;\n",
       "        }    #T_1615313a_e20a_11e9_8e90_c8bcc89f66f8row3_col6 {\n",
       "            background-color:  #9bd469;\n",
       "            color:  #000000;\n",
       "        }    #T_1615313a_e20a_11e9_8e90_c8bcc89f66f8row3_col7 {\n",
       "            background-color:  #fdfebc;\n",
       "            color:  #000000;\n",
       "        }    #T_1615313a_e20a_11e9_8e90_c8bcc89f66f8row4_col0 {\n",
       "            background-color:  #b3df72;\n",
       "            color:  #000000;\n",
       "        }    #T_1615313a_e20a_11e9_8e90_c8bcc89f66f8row4_col1 {\n",
       "            background-color:  #ec5c3b;\n",
       "            color:  #000000;\n",
       "        }    #T_1615313a_e20a_11e9_8e90_c8bcc89f66f8row4_col2 {\n",
       "            background-color:  #e75337;\n",
       "            color:  #000000;\n",
       "        }    #T_1615313a_e20a_11e9_8e90_c8bcc89f66f8row4_col3 {\n",
       "            background-color:  #75c465;\n",
       "            color:  #000000;\n",
       "        }    #T_1615313a_e20a_11e9_8e90_c8bcc89f66f8row4_col4 {\n",
       "            background-color:  #006837;\n",
       "            color:  #f1f1f1;\n",
       "        }    #T_1615313a_e20a_11e9_8e90_c8bcc89f66f8row4_col5 {\n",
       "            background-color:  #e14430;\n",
       "            color:  #f1f1f1;\n",
       "        }    #T_1615313a_e20a_11e9_8e90_c8bcc89f66f8row4_col6 {\n",
       "            background-color:  #108647;\n",
       "            color:  #000000;\n",
       "        }    #T_1615313a_e20a_11e9_8e90_c8bcc89f66f8row4_col7 {\n",
       "            background-color:  #fdc171;\n",
       "            color:  #000000;\n",
       "        }    #T_1615313a_e20a_11e9_8e90_c8bcc89f66f8row5_col0 {\n",
       "            background-color:  #a50026;\n",
       "            color:  #f1f1f1;\n",
       "        }    #T_1615313a_e20a_11e9_8e90_c8bcc89f66f8row5_col1 {\n",
       "            background-color:  #e54e35;\n",
       "            color:  #000000;\n",
       "        }    #T_1615313a_e20a_11e9_8e90_c8bcc89f66f8row5_col2 {\n",
       "            background-color:  #fff1a8;\n",
       "            color:  #000000;\n",
       "        }    #T_1615313a_e20a_11e9_8e90_c8bcc89f66f8row5_col3 {\n",
       "            background-color:  #fa9b58;\n",
       "            color:  #000000;\n",
       "        }    #T_1615313a_e20a_11e9_8e90_c8bcc89f66f8row5_col4 {\n",
       "            background-color:  #e14430;\n",
       "            color:  #f1f1f1;\n",
       "        }    #T_1615313a_e20a_11e9_8e90_c8bcc89f66f8row5_col5 {\n",
       "            background-color:  #006837;\n",
       "            color:  #f1f1f1;\n",
       "        }    #T_1615313a_e20a_11e9_8e90_c8bcc89f66f8row5_col6 {\n",
       "            background-color:  #c21c27;\n",
       "            color:  #f1f1f1;\n",
       "        }    #T_1615313a_e20a_11e9_8e90_c8bcc89f66f8row5_col7 {\n",
       "            background-color:  #fffdbc;\n",
       "            color:  #000000;\n",
       "        }    #T_1615313a_e20a_11e9_8e90_c8bcc89f66f8row6_col0 {\n",
       "            background-color:  #a7d96b;\n",
       "            color:  #000000;\n",
       "        }    #T_1615313a_e20a_11e9_8e90_c8bcc89f66f8row6_col1 {\n",
       "            background-color:  #ea5739;\n",
       "            color:  #000000;\n",
       "        }    #T_1615313a_e20a_11e9_8e90_c8bcc89f66f8row6_col2 {\n",
       "            background-color:  #ce2827;\n",
       "            color:  #f1f1f1;\n",
       "        }    #T_1615313a_e20a_11e9_8e90_c8bcc89f66f8row6_col3 {\n",
       "            background-color:  #9bd469;\n",
       "            color:  #000000;\n",
       "        }    #T_1615313a_e20a_11e9_8e90_c8bcc89f66f8row6_col4 {\n",
       "            background-color:  #108647;\n",
       "            color:  #000000;\n",
       "        }    #T_1615313a_e20a_11e9_8e90_c8bcc89f66f8row6_col5 {\n",
       "            background-color:  #c21c27;\n",
       "            color:  #f1f1f1;\n",
       "        }    #T_1615313a_e20a_11e9_8e90_c8bcc89f66f8row6_col6 {\n",
       "            background-color:  #006837;\n",
       "            color:  #f1f1f1;\n",
       "        }    #T_1615313a_e20a_11e9_8e90_c8bcc89f66f8row6_col7 {\n",
       "            background-color:  #f67c4a;\n",
       "            color:  #000000;\n",
       "        }    #T_1615313a_e20a_11e9_8e90_c8bcc89f66f8row7_col0 {\n",
       "            background-color:  #f57547;\n",
       "            color:  #000000;\n",
       "        }    #T_1615313a_e20a_11e9_8e90_c8bcc89f66f8row7_col1 {\n",
       "            background-color:  #f47044;\n",
       "            color:  #000000;\n",
       "        }    #T_1615313a_e20a_11e9_8e90_c8bcc89f66f8row7_col2 {\n",
       "            background-color:  #fed27f;\n",
       "            color:  #000000;\n",
       "        }    #T_1615313a_e20a_11e9_8e90_c8bcc89f66f8row7_col3 {\n",
       "            background-color:  #fdfebc;\n",
       "            color:  #000000;\n",
       "        }    #T_1615313a_e20a_11e9_8e90_c8bcc89f66f8row7_col4 {\n",
       "            background-color:  #fdc171;\n",
       "            color:  #000000;\n",
       "        }    #T_1615313a_e20a_11e9_8e90_c8bcc89f66f8row7_col5 {\n",
       "            background-color:  #fffdbc;\n",
       "            color:  #000000;\n",
       "        }    #T_1615313a_e20a_11e9_8e90_c8bcc89f66f8row7_col6 {\n",
       "            background-color:  #f67c4a;\n",
       "            color:  #000000;\n",
       "        }    #T_1615313a_e20a_11e9_8e90_c8bcc89f66f8row7_col7 {\n",
       "            background-color:  #006837;\n",
       "            color:  #f1f1f1;\n",
       "        }</style><table id=\"T_1615313a_e20a_11e9_8e90_c8bcc89f66f8\" ><thead>    <tr>        <th class=\"blank level0\" ></th>        <th class=\"col_heading level0 col0\" >Channel</th>        <th class=\"col_heading level0 col1\" >Region</th>        <th class=\"col_heading level0 col2\" >Fresh</th>        <th class=\"col_heading level0 col3\" >Milk</th>        <th class=\"col_heading level0 col4\" >Grocery</th>        <th class=\"col_heading level0 col5\" >Frozen</th>        <th class=\"col_heading level0 col6\" >Detergents_Paper</th>        <th class=\"col_heading level0 col7\" >Delicassen</th>    </tr></thead><tbody>\n",
       "                <tr>\n",
       "                        <th id=\"T_1615313a_e20a_11e9_8e90_c8bcc89f66f8level0_row0\" class=\"row_heading level0 row0\" >Channel</th>\n",
       "                        <td id=\"T_1615313a_e20a_11e9_8e90_c8bcc89f66f8row0_col0\" class=\"data row0 col0\" >1</td>\n",
       "                        <td id=\"T_1615313a_e20a_11e9_8e90_c8bcc89f66f8row0_col1\" class=\"data row0 col1\" >0.062</td>\n",
       "                        <td id=\"T_1615313a_e20a_11e9_8e90_c8bcc89f66f8row0_col2\" class=\"data row0 col2\" >-0.17</td>\n",
       "                        <td id=\"T_1615313a_e20a_11e9_8e90_c8bcc89f66f8row0_col3\" class=\"data row0 col3\" >0.46</td>\n",
       "                        <td id=\"T_1615313a_e20a_11e9_8e90_c8bcc89f66f8row0_col4\" class=\"data row0 col4\" >0.61</td>\n",
       "                        <td id=\"T_1615313a_e20a_11e9_8e90_c8bcc89f66f8row0_col5\" class=\"data row0 col5\" >-0.2</td>\n",
       "                        <td id=\"T_1615313a_e20a_11e9_8e90_c8bcc89f66f8row0_col6\" class=\"data row0 col6\" >0.64</td>\n",
       "                        <td id=\"T_1615313a_e20a_11e9_8e90_c8bcc89f66f8row0_col7\" class=\"data row0 col7\" >0.056</td>\n",
       "            </tr>\n",
       "            <tr>\n",
       "                        <th id=\"T_1615313a_e20a_11e9_8e90_c8bcc89f66f8level0_row1\" class=\"row_heading level0 row1\" >Region</th>\n",
       "                        <td id=\"T_1615313a_e20a_11e9_8e90_c8bcc89f66f8row1_col0\" class=\"data row1 col0\" >0.062</td>\n",
       "                        <td id=\"T_1615313a_e20a_11e9_8e90_c8bcc89f66f8row1_col1\" class=\"data row1 col1\" >1</td>\n",
       "                        <td id=\"T_1615313a_e20a_11e9_8e90_c8bcc89f66f8row1_col2\" class=\"data row1 col2\" >0.055</td>\n",
       "                        <td id=\"T_1615313a_e20a_11e9_8e90_c8bcc89f66f8row1_col3\" class=\"data row1 col3\" >0.032</td>\n",
       "                        <td id=\"T_1615313a_e20a_11e9_8e90_c8bcc89f66f8row1_col4\" class=\"data row1 col4\" >0.0077</td>\n",
       "                        <td id=\"T_1615313a_e20a_11e9_8e90_c8bcc89f66f8row1_col5\" class=\"data row1 col5\" >-0.021</td>\n",
       "                        <td id=\"T_1615313a_e20a_11e9_8e90_c8bcc89f66f8row1_col6\" class=\"data row1 col6\" >-0.0015</td>\n",
       "                        <td id=\"T_1615313a_e20a_11e9_8e90_c8bcc89f66f8row1_col7\" class=\"data row1 col7\" >0.045</td>\n",
       "            </tr>\n",
       "            <tr>\n",
       "                        <th id=\"T_1615313a_e20a_11e9_8e90_c8bcc89f66f8level0_row2\" class=\"row_heading level0 row2\" >Fresh</th>\n",
       "                        <td id=\"T_1615313a_e20a_11e9_8e90_c8bcc89f66f8row2_col0\" class=\"data row2 col0\" >-0.17</td>\n",
       "                        <td id=\"T_1615313a_e20a_11e9_8e90_c8bcc89f66f8row2_col1\" class=\"data row2 col1\" >0.055</td>\n",
       "                        <td id=\"T_1615313a_e20a_11e9_8e90_c8bcc89f66f8row2_col2\" class=\"data row2 col2\" >1</td>\n",
       "                        <td id=\"T_1615313a_e20a_11e9_8e90_c8bcc89f66f8row2_col3\" class=\"data row2 col3\" >0.1</td>\n",
       "                        <td id=\"T_1615313a_e20a_11e9_8e90_c8bcc89f66f8row2_col4\" class=\"data row2 col4\" >-0.012</td>\n",
       "                        <td id=\"T_1615313a_e20a_11e9_8e90_c8bcc89f66f8row2_col5\" class=\"data row2 col5\" >0.35</td>\n",
       "                        <td id=\"T_1615313a_e20a_11e9_8e90_c8bcc89f66f8row2_col6\" class=\"data row2 col6\" >-0.1</td>\n",
       "                        <td id=\"T_1615313a_e20a_11e9_8e90_c8bcc89f66f8row2_col7\" class=\"data row2 col7\" >0.24</td>\n",
       "            </tr>\n",
       "            <tr>\n",
       "                        <th id=\"T_1615313a_e20a_11e9_8e90_c8bcc89f66f8level0_row3\" class=\"row_heading level0 row3\" >Milk</th>\n",
       "                        <td id=\"T_1615313a_e20a_11e9_8e90_c8bcc89f66f8row3_col0\" class=\"data row3 col0\" >0.46</td>\n",
       "                        <td id=\"T_1615313a_e20a_11e9_8e90_c8bcc89f66f8row3_col1\" class=\"data row3 col1\" >0.032</td>\n",
       "                        <td id=\"T_1615313a_e20a_11e9_8e90_c8bcc89f66f8row3_col2\" class=\"data row3 col2\" >0.1</td>\n",
       "                        <td id=\"T_1615313a_e20a_11e9_8e90_c8bcc89f66f8row3_col3\" class=\"data row3 col3\" >1</td>\n",
       "                        <td id=\"T_1615313a_e20a_11e9_8e90_c8bcc89f66f8row3_col4\" class=\"data row3 col4\" >0.73</td>\n",
       "                        <td id=\"T_1615313a_e20a_11e9_8e90_c8bcc89f66f8row3_col5\" class=\"data row3 col5\" >0.12</td>\n",
       "                        <td id=\"T_1615313a_e20a_11e9_8e90_c8bcc89f66f8row3_col6\" class=\"data row3 col6\" >0.66</td>\n",
       "                        <td id=\"T_1615313a_e20a_11e9_8e90_c8bcc89f66f8row3_col7\" class=\"data row3 col7\" >0.41</td>\n",
       "            </tr>\n",
       "            <tr>\n",
       "                        <th id=\"T_1615313a_e20a_11e9_8e90_c8bcc89f66f8level0_row4\" class=\"row_heading level0 row4\" >Grocery</th>\n",
       "                        <td id=\"T_1615313a_e20a_11e9_8e90_c8bcc89f66f8row4_col0\" class=\"data row4 col0\" >0.61</td>\n",
       "                        <td id=\"T_1615313a_e20a_11e9_8e90_c8bcc89f66f8row4_col1\" class=\"data row4 col1\" >0.0077</td>\n",
       "                        <td id=\"T_1615313a_e20a_11e9_8e90_c8bcc89f66f8row4_col2\" class=\"data row4 col2\" >-0.012</td>\n",
       "                        <td id=\"T_1615313a_e20a_11e9_8e90_c8bcc89f66f8row4_col3\" class=\"data row4 col3\" >0.73</td>\n",
       "                        <td id=\"T_1615313a_e20a_11e9_8e90_c8bcc89f66f8row4_col4\" class=\"data row4 col4\" >1</td>\n",
       "                        <td id=\"T_1615313a_e20a_11e9_8e90_c8bcc89f66f8row4_col5\" class=\"data row4 col5\" >-0.04</td>\n",
       "                        <td id=\"T_1615313a_e20a_11e9_8e90_c8bcc89f66f8row4_col6\" class=\"data row4 col6\" >0.92</td>\n",
       "                        <td id=\"T_1615313a_e20a_11e9_8e90_c8bcc89f66f8row4_col7\" class=\"data row4 col7\" >0.21</td>\n",
       "            </tr>\n",
       "            <tr>\n",
       "                        <th id=\"T_1615313a_e20a_11e9_8e90_c8bcc89f66f8level0_row5\" class=\"row_heading level0 row5\" >Frozen</th>\n",
       "                        <td id=\"T_1615313a_e20a_11e9_8e90_c8bcc89f66f8row5_col0\" class=\"data row5 col0\" >-0.2</td>\n",
       "                        <td id=\"T_1615313a_e20a_11e9_8e90_c8bcc89f66f8row5_col1\" class=\"data row5 col1\" >-0.021</td>\n",
       "                        <td id=\"T_1615313a_e20a_11e9_8e90_c8bcc89f66f8row5_col2\" class=\"data row5 col2\" >0.35</td>\n",
       "                        <td id=\"T_1615313a_e20a_11e9_8e90_c8bcc89f66f8row5_col3\" class=\"data row5 col3\" >0.12</td>\n",
       "                        <td id=\"T_1615313a_e20a_11e9_8e90_c8bcc89f66f8row5_col4\" class=\"data row5 col4\" >-0.04</td>\n",
       "                        <td id=\"T_1615313a_e20a_11e9_8e90_c8bcc89f66f8row5_col5\" class=\"data row5 col5\" >1</td>\n",
       "                        <td id=\"T_1615313a_e20a_11e9_8e90_c8bcc89f66f8row5_col6\" class=\"data row5 col6\" >-0.13</td>\n",
       "                        <td id=\"T_1615313a_e20a_11e9_8e90_c8bcc89f66f8row5_col7\" class=\"data row5 col7\" >0.39</td>\n",
       "            </tr>\n",
       "            <tr>\n",
       "                        <th id=\"T_1615313a_e20a_11e9_8e90_c8bcc89f66f8level0_row6\" class=\"row_heading level0 row6\" >Detergents_Paper</th>\n",
       "                        <td id=\"T_1615313a_e20a_11e9_8e90_c8bcc89f66f8row6_col0\" class=\"data row6 col0\" >0.64</td>\n",
       "                        <td id=\"T_1615313a_e20a_11e9_8e90_c8bcc89f66f8row6_col1\" class=\"data row6 col1\" >-0.0015</td>\n",
       "                        <td id=\"T_1615313a_e20a_11e9_8e90_c8bcc89f66f8row6_col2\" class=\"data row6 col2\" >-0.1</td>\n",
       "                        <td id=\"T_1615313a_e20a_11e9_8e90_c8bcc89f66f8row6_col3\" class=\"data row6 col3\" >0.66</td>\n",
       "                        <td id=\"T_1615313a_e20a_11e9_8e90_c8bcc89f66f8row6_col4\" class=\"data row6 col4\" >0.92</td>\n",
       "                        <td id=\"T_1615313a_e20a_11e9_8e90_c8bcc89f66f8row6_col5\" class=\"data row6 col5\" >-0.13</td>\n",
       "                        <td id=\"T_1615313a_e20a_11e9_8e90_c8bcc89f66f8row6_col6\" class=\"data row6 col6\" >1</td>\n",
       "                        <td id=\"T_1615313a_e20a_11e9_8e90_c8bcc89f66f8row6_col7\" class=\"data row6 col7\" >0.069</td>\n",
       "            </tr>\n",
       "            <tr>\n",
       "                        <th id=\"T_1615313a_e20a_11e9_8e90_c8bcc89f66f8level0_row7\" class=\"row_heading level0 row7\" >Delicassen</th>\n",
       "                        <td id=\"T_1615313a_e20a_11e9_8e90_c8bcc89f66f8row7_col0\" class=\"data row7 col0\" >0.056</td>\n",
       "                        <td id=\"T_1615313a_e20a_11e9_8e90_c8bcc89f66f8row7_col1\" class=\"data row7 col1\" >0.045</td>\n",
       "                        <td id=\"T_1615313a_e20a_11e9_8e90_c8bcc89f66f8row7_col2\" class=\"data row7 col2\" >0.24</td>\n",
       "                        <td id=\"T_1615313a_e20a_11e9_8e90_c8bcc89f66f8row7_col3\" class=\"data row7 col3\" >0.41</td>\n",
       "                        <td id=\"T_1615313a_e20a_11e9_8e90_c8bcc89f66f8row7_col4\" class=\"data row7 col4\" >0.21</td>\n",
       "                        <td id=\"T_1615313a_e20a_11e9_8e90_c8bcc89f66f8row7_col5\" class=\"data row7 col5\" >0.39</td>\n",
       "                        <td id=\"T_1615313a_e20a_11e9_8e90_c8bcc89f66f8row7_col6\" class=\"data row7 col6\" >0.069</td>\n",
       "                        <td id=\"T_1615313a_e20a_11e9_8e90_c8bcc89f66f8row7_col7\" class=\"data row7 col7\" >1</td>\n",
       "            </tr>\n",
       "    </tbody></table>"
      ],
      "text/plain": [
       "<pandas.io.formats.style.Styler at 0x11f4782b0>"
      ]
     },
     "execution_count": 9,
     "metadata": {},
     "output_type": "execute_result"
    }
   ],
   "source": [
    "heatmap = customers_corr.style.background_gradient(cmap='RdYlGn',axis=None).set_precision(2)\n",
    "heatmap #no high correlations (column collinearity) that worth to be dropped"
   ]
  },
  {
   "cell_type": "code",
   "execution_count": 10,
   "metadata": {},
   "outputs": [
    {
     "data": {
      "text/html": [
       "<div>\n",
       "<style scoped>\n",
       "    .dataframe tbody tr th:only-of-type {\n",
       "        vertical-align: middle;\n",
       "    }\n",
       "\n",
       "    .dataframe tbody tr th {\n",
       "        vertical-align: top;\n",
       "    }\n",
       "\n",
       "    .dataframe thead th {\n",
       "        text-align: right;\n",
       "    }\n",
       "</style>\n",
       "<table border=\"1\" class=\"dataframe\">\n",
       "  <thead>\n",
       "    <tr style=\"text-align: right;\">\n",
       "      <th></th>\n",
       "      <th>Channel</th>\n",
       "      <th>Region</th>\n",
       "      <th>Fresh</th>\n",
       "      <th>Milk</th>\n",
       "      <th>Grocery</th>\n",
       "      <th>Frozen</th>\n",
       "      <th>Detergents_Paper</th>\n",
       "      <th>Delicassen</th>\n",
       "    </tr>\n",
       "  </thead>\n",
       "  <tbody>\n",
       "    <tr>\n",
       "      <th>count</th>\n",
       "      <td>440.000000</td>\n",
       "      <td>440.000000</td>\n",
       "      <td>440.000000</td>\n",
       "      <td>440.000000</td>\n",
       "      <td>440.000000</td>\n",
       "      <td>440.000000</td>\n",
       "      <td>440.000000</td>\n",
       "      <td>440.000000</td>\n",
       "    </tr>\n",
       "    <tr>\n",
       "      <th>mean</th>\n",
       "      <td>1.322727</td>\n",
       "      <td>2.543182</td>\n",
       "      <td>12000.297727</td>\n",
       "      <td>5796.265909</td>\n",
       "      <td>7951.277273</td>\n",
       "      <td>3071.931818</td>\n",
       "      <td>2881.493182</td>\n",
       "      <td>1524.870455</td>\n",
       "    </tr>\n",
       "    <tr>\n",
       "      <th>std</th>\n",
       "      <td>0.468052</td>\n",
       "      <td>0.774272</td>\n",
       "      <td>12647.328865</td>\n",
       "      <td>7380.377175</td>\n",
       "      <td>9503.162829</td>\n",
       "      <td>4854.673333</td>\n",
       "      <td>4767.854448</td>\n",
       "      <td>2820.105937</td>\n",
       "    </tr>\n",
       "    <tr>\n",
       "      <th>min</th>\n",
       "      <td>1.000000</td>\n",
       "      <td>1.000000</td>\n",
       "      <td>3.000000</td>\n",
       "      <td>55.000000</td>\n",
       "      <td>3.000000</td>\n",
       "      <td>25.000000</td>\n",
       "      <td>3.000000</td>\n",
       "      <td>3.000000</td>\n",
       "    </tr>\n",
       "    <tr>\n",
       "      <th>25%</th>\n",
       "      <td>1.000000</td>\n",
       "      <td>2.000000</td>\n",
       "      <td>3127.750000</td>\n",
       "      <td>1533.000000</td>\n",
       "      <td>2153.000000</td>\n",
       "      <td>742.250000</td>\n",
       "      <td>256.750000</td>\n",
       "      <td>408.250000</td>\n",
       "    </tr>\n",
       "    <tr>\n",
       "      <th>50%</th>\n",
       "      <td>1.000000</td>\n",
       "      <td>3.000000</td>\n",
       "      <td>8504.000000</td>\n",
       "      <td>3627.000000</td>\n",
       "      <td>4755.500000</td>\n",
       "      <td>1526.000000</td>\n",
       "      <td>816.500000</td>\n",
       "      <td>965.500000</td>\n",
       "    </tr>\n",
       "    <tr>\n",
       "      <th>75%</th>\n",
       "      <td>2.000000</td>\n",
       "      <td>3.000000</td>\n",
       "      <td>16933.750000</td>\n",
       "      <td>7190.250000</td>\n",
       "      <td>10655.750000</td>\n",
       "      <td>3554.250000</td>\n",
       "      <td>3922.000000</td>\n",
       "      <td>1820.250000</td>\n",
       "    </tr>\n",
       "    <tr>\n",
       "      <th>max</th>\n",
       "      <td>2.000000</td>\n",
       "      <td>3.000000</td>\n",
       "      <td>112151.000000</td>\n",
       "      <td>73498.000000</td>\n",
       "      <td>92780.000000</td>\n",
       "      <td>60869.000000</td>\n",
       "      <td>40827.000000</td>\n",
       "      <td>47943.000000</td>\n",
       "    </tr>\n",
       "  </tbody>\n",
       "</table>\n",
       "</div>"
      ],
      "text/plain": [
       "          Channel      Region          Fresh          Milk       Grocery  \\\n",
       "count  440.000000  440.000000     440.000000    440.000000    440.000000   \n",
       "mean     1.322727    2.543182   12000.297727   5796.265909   7951.277273   \n",
       "std      0.468052    0.774272   12647.328865   7380.377175   9503.162829   \n",
       "min      1.000000    1.000000       3.000000     55.000000      3.000000   \n",
       "25%      1.000000    2.000000    3127.750000   1533.000000   2153.000000   \n",
       "50%      1.000000    3.000000    8504.000000   3627.000000   4755.500000   \n",
       "75%      2.000000    3.000000   16933.750000   7190.250000  10655.750000   \n",
       "max      2.000000    3.000000  112151.000000  73498.000000  92780.000000   \n",
       "\n",
       "             Frozen  Detergents_Paper    Delicassen  \n",
       "count    440.000000        440.000000    440.000000  \n",
       "mean    3071.931818       2881.493182   1524.870455  \n",
       "std     4854.673333       4767.854448   2820.105937  \n",
       "min       25.000000          3.000000      3.000000  \n",
       "25%      742.250000        256.750000    408.250000  \n",
       "50%     1526.000000        816.500000    965.500000  \n",
       "75%     3554.250000       3922.000000   1820.250000  \n",
       "max    60869.000000      40827.000000  47943.000000  "
      ]
     },
     "execution_count": 10,
     "metadata": {},
     "output_type": "execute_result"
    }
   ],
   "source": [
    "customers.describe()"
   ]
  },
  {
   "cell_type": "code",
   "execution_count": 11,
   "metadata": {},
   "outputs": [
    {
     "data": {
      "text/plain": [
       "<matplotlib.axes._subplots.AxesSubplot at 0x11f7ce908>"
      ]
     },
     "execution_count": 11,
     "metadata": {},
     "output_type": "execute_result"
    },
    {
     "data": {
      "image/png": "[encoded data removed]",
      "text/plain": [
       "<Figure size 864x360 with 1 Axes>"
      ]
     },
     "metadata": {
      "needs_background": "light"
     },
     "output_type": "display_data"
    }
   ],
   "source": [
    "#check for outliers - there are some indeed\n",
    "customers.boxplot(figsize=(12,5))"
   ]
  },
  {
   "cell_type": "code",
   "execution_count": 12,
   "metadata": {},
   "outputs": [
    {
     "data": {
      "text/plain": [
       "array([[<matplotlib.axes._subplots.AxesSubplot object at 0x12029a278>,\n",
       "        <matplotlib.axes._subplots.AxesSubplot object at 0x120401160>,\n",
       "        <matplotlib.axes._subplots.AxesSubplot object at 0x120430710>],\n",
       "       [<matplotlib.axes._subplots.AxesSubplot object at 0x120462cc0>,\n",
       "        <matplotlib.axes._subplots.AxesSubplot object at 0x1204a02b0>,\n",
       "        <matplotlib.axes._subplots.AxesSubplot object at 0x1204ce860>],\n",
       "       [<matplotlib.axes._subplots.AxesSubplot object at 0x120503e10>,\n",
       "        <matplotlib.axes._subplots.AxesSubplot object at 0x120541438>,\n",
       "        <matplotlib.axes._subplots.AxesSubplot object at 0x120541470>]],\n",
       "      dtype=object)"
      ]
     },
     "execution_count": 12,
     "metadata": {},
     "output_type": "execute_result"
    },
    {
     "data": {
      "image/png": "[encoded data removed]",
      "text/plain": [
       "<Figure size 1080x720 with 9 Axes>"
      ]
     },
     "metadata": {
      "needs_background": "light"
     },
     "output_type": "display_data"
    }
   ],
   "source": [
    "customers.hist(bins=10, figsize=(15,10))"
   ]
  },
  {
   "cell_type": "code",
   "execution_count": 13,
   "metadata": {},
   "outputs": [
    {
     "name": "stdout",
     "output_type": "stream",
     "text": [
      "Skewness of Fresh :  2.5525826879071585\n",
      "Skewness of Milk :  4.039922122788577\n",
      "Skewness of Grocery :  3.5751872200807875\n",
      "Skewness of Frozen :  5.887825728957787\n",
      "Skewness of Detergents_Paper :  3.6194575783115934\n",
      "Skewness of Delicassen :  11.113533648709097\n"
     ]
    }
   ],
   "source": [
    "#is the distribution of each of the bought goods skewed?\n",
    "from scipy.stats import skew\n",
    "'''\n",
    "skewness = 0 : normally distributed.\n",
    "skewness > 0 : more weight in the left tail of the distribution.\n",
    "skewness < 0 : more weight in the right tail of the distribution. \n",
    "'''\n",
    "\n",
    "print('Skewness of Fresh : ', skew(customers.Fresh)) \n",
    "print('Skewness of Milk : ', skew(customers.Milk)) \n",
    "print('Skewness of Grocery : ', skew(customers.Grocery)) \n",
    "print('Skewness of Frozen : ', skew(customers.Frozen)) \n",
    "print('Skewness of Detergents_Paper : ', skew(customers.Detergents_Paper)) \n",
    "print('Skewness of Delicassen : ', skew(customers.Delicassen)) \n",
    "\n",
    "#the distribution of all the goods is left skewed."
   ]
  },
  {
   "cell_type": "markdown",
   "metadata": {},
   "source": [
    "# Challenge 2 - Data Cleaning and Transformation\n",
    "\n",
    "If your conclusion from the previous challenge is the data need cleaning/transformation, do it in the cells below. However, if your conclusion is the data need not be cleaned or transformed, feel free to skip this challenge. But if you do choose the latter, please provide rationale."
   ]
  },
  {
   "cell_type": "code",
   "execution_count": 14,
   "metadata": {},
   "outputs": [
    {
     "data": {
      "text/plain": [
       "'\\nMaybe I should remove some outliers\\n'"
      ]
     },
     "execution_count": 14,
     "metadata": {},
     "output_type": "execute_result"
    }
   ],
   "source": [
    "# Your code here\n",
    "'''\n",
    "Maybe I should remove some outliers\n",
    "'''"
   ]
  },
  {
   "cell_type": "code",
   "execution_count": 15,
   "metadata": {},
   "outputs": [],
   "source": [
    "# Your comment here"
   ]
  },
  {
   "cell_type": "markdown",
   "metadata": {},
   "source": [
    "# Challenge 3 - Data Preprocessing\n",
    "\n",
    "One problem with the dataset is the value ranges are remarkably different across various categories (e.g. `Fresh` and `Grocery` compared to `Detergents_Paper` and `Delicassen`). If you made this observation in the first challenge, you've done a great job! This means you not only completed the bonus questions in the previous Supervised Learning lab but also researched deep into [*feature scaling*](https://en.wikipedia.org/wiki/Feature_scaling). Keep on the good work!\n",
    "\n",
    "Diverse value ranges in different features could cause issues in our clustering. The way to reduce the problem is through feature scaling. We'll use this technique again with this dataset.\n",
    "\n",
    "#### We will use the `StandardScaler` from `sklearn.preprocessing` and scale our data. Read more about `StandardScaler` [here](https://scikit-learn.org/stable/modules/generated/sklearn.preprocessing.StandardScaler.html#sklearn.preprocessing.StandardScaler).\n",
    "\n",
    "*After scaling your data, assign the transformed data to a new variable `customers_scale`.*"
   ]
  },
  {
   "cell_type": "code",
   "execution_count": 16,
   "metadata": {},
   "outputs": [],
   "source": [
    "# Your import here:\n",
    "from sklearn.preprocessing import StandardScaler\n",
    "\n",
    "# Your code here:\n",
    "scaler = StandardScaler()\n",
    "customers_scale = scaler.fit_transform(customers)"
   ]
  },
  {
   "cell_type": "code",
   "execution_count": 17,
   "metadata": {},
   "outputs": [
    {
     "ename": "AttributeError",
     "evalue": "'numpy.ndarray' object has no attribute 'describe'",
     "output_type": "error",
     "traceback": [
      "\u001b[0;31m---------------------------------------------------------------------------\u001b[0m",
      "\u001b[0;31mAttributeError\u001b[0m                            Traceback (most recent call last)",
      "\u001b[0;32m<ipython-input-17-35612ad97193>\u001b[0m in \u001b[0;36m<module>\u001b[0;34m\u001b[0m\n\u001b[0;32m----> 1\u001b[0;31m \u001b[0mcustomers_scale\u001b[0m\u001b[0;34m.\u001b[0m\u001b[0mdescribe\u001b[0m\u001b[0;34m(\u001b[0m\u001b[0;34m)\u001b[0m\u001b[0;34m\u001b[0m\u001b[0m\n\u001b[0m\u001b[1;32m      2\u001b[0m '''\n\u001b[1;32m      3\u001b[0m \u001b[0mThe\u001b[0m \u001b[0mabove\u001b[0m \u001b[0mcode\u001b[0m \u001b[0mtransformed\u001b[0m \u001b[0mthe\u001b[0m \u001b[0mdataframe\u001b[0m \u001b[0minto\u001b[0m \u001b[0ma\u001b[0m \u001b[0mnumpy\u001b[0m\u001b[0;34m.\u001b[0m\u001b[0mndarray\u001b[0m\u001b[0;34m.\u001b[0m\u001b[0;34m\u001b[0m\u001b[0m\n\u001b[1;32m      4\u001b[0m \u001b[0mI\u001b[0m \u001b[0mwas\u001b[0m \u001b[0mtrying\u001b[0m \u001b[0mto\u001b[0m \u001b[0mdescribe\u001b[0m \u001b[0mit\u001b[0m \u001b[0mso\u001b[0m \u001b[0mI\u001b[0m \u001b[0mcould\u001b[0m \u001b[0msee\u001b[0m \u001b[0mthe\u001b[0m \u001b[0mdifferences\u001b[0m \u001b[0mbetween\u001b[0m \u001b[0mcustomer\u001b[0m \u001b[0;32mand\u001b[0m \u001b[0mcustomers_scale\u001b[0m\u001b[0;34m,\u001b[0m \u001b[0;32mif\u001b[0m \u001b[0mit\u001b[0m \u001b[0mwas\u001b[0m\u001b[0;34m\u001b[0m\u001b[0m\n\u001b[1;32m      5\u001b[0m \u001b[0mreally\u001b[0m \u001b[0mscalled\u001b[0m\u001b[0;34m.\u001b[0m \u001b[0mBut\u001b[0m \u001b[0mI\u001b[0m \u001b[0mcan\u001b[0m\u001b[0;31m'\u001b[0m\u001b[0mt\u001b[0m \u001b[0mdo\u001b[0m \u001b[0mdescribe\u001b[0m\u001b[0;34m(\u001b[0m\u001b[0;34m)\u001b[0m \u001b[0mto\u001b[0m \u001b[0ma\u001b[0m \u001b[0mnumpy\u001b[0m \u001b[0marray\u001b[0m\u001b[0;34m.\u001b[0m \u001b[0mWhy\u001b[0m \u001b[0mit\u001b[0m \u001b[0mwas\u001b[0m \u001b[0mconverted\u001b[0m \u001b[0mto\u001b[0m \u001b[0ma\u001b[0m \u001b[0mnp\u001b[0m \u001b[0marray\u001b[0m\u001b[0;31m?\u001b[0m\u001b[0;34m\u001b[0m\u001b[0m\n",
      "\u001b[0;31mAttributeError\u001b[0m: 'numpy.ndarray' object has no attribute 'describe'"
     ]
    }
   ],
   "source": [
    "customers_scale.describe()\n",
    "'''\n",
    "The above code transformed the dataframe into a numpy.ndarray.\n",
    "I was trying to describe it so I could see the differences between customer and customers_scale, if it was\n",
    "really scalled. But I can't do describe() to a numpy array. Why it was converted to a np array?\n",
    "'''"
   ]
  },
  {
   "cell_type": "markdown",
   "metadata": {},
   "source": [
    "# Challenge 3 - Data Clustering with K-Means\n",
    "\n",
    "Now let's cluster the data with K-Means first. Initiate the K-Means model, then fit your scaled data. In the data returned from the `.fit` method, there is an attribute called `labels_` which is the cluster number assigned to each data record. What you can do is to assign these labels back to `customers` in a new column called `customers['labels']`. Then you'll see the cluster results of the original data."
   ]
  },
  {
   "cell_type": "code",
   "execution_count": 18,
   "metadata": {
    "scrolled": true
   },
   "outputs": [],
   "source": [
    "# Your code here:\n",
    "from sklearn.cluster import KMeans\n",
    "\n",
    "cluster = KMeans(n_clusters=3, random_state=0, n_jobs=-1) #how many clusters should I do?\n",
    "model = cluster.fit(customers_scale)\n",
    "customers[\"labels_KMEAN\"] = model.labels_"
   ]
  },
  {
   "cell_type": "code",
   "execution_count": 19,
   "metadata": {},
   "outputs": [
    {
     "data": {
      "text/html": [
       "<div>\n",
       "<style scoped>\n",
       "    .dataframe tbody tr th:only-of-type {\n",
       "        vertical-align: middle;\n",
       "    }\n",
       "\n",
       "    .dataframe tbody tr th {\n",
       "        vertical-align: top;\n",
       "    }\n",
       "\n",
       "    .dataframe thead th {\n",
       "        text-align: right;\n",
       "    }\n",
       "</style>\n",
       "<table border=\"1\" class=\"dataframe\">\n",
       "  <thead>\n",
       "    <tr style=\"text-align: right;\">\n",
       "      <th></th>\n",
       "      <th>Channel</th>\n",
       "      <th>Region</th>\n",
       "      <th>Fresh</th>\n",
       "      <th>Milk</th>\n",
       "      <th>Grocery</th>\n",
       "      <th>Frozen</th>\n",
       "      <th>Detergents_Paper</th>\n",
       "      <th>Delicassen</th>\n",
       "      <th>labels_KMEAN</th>\n",
       "    </tr>\n",
       "  </thead>\n",
       "  <tbody>\n",
       "    <tr>\n",
       "      <th>0</th>\n",
       "      <td>2</td>\n",
       "      <td>3</td>\n",
       "      <td>12669</td>\n",
       "      <td>9656</td>\n",
       "      <td>7561</td>\n",
       "      <td>214</td>\n",
       "      <td>2674</td>\n",
       "      <td>1338</td>\n",
       "      <td>1</td>\n",
       "    </tr>\n",
       "    <tr>\n",
       "      <th>1</th>\n",
       "      <td>2</td>\n",
       "      <td>3</td>\n",
       "      <td>7057</td>\n",
       "      <td>9810</td>\n",
       "      <td>9568</td>\n",
       "      <td>1762</td>\n",
       "      <td>3293</td>\n",
       "      <td>1776</td>\n",
       "      <td>1</td>\n",
       "    </tr>\n",
       "    <tr>\n",
       "      <th>2</th>\n",
       "      <td>2</td>\n",
       "      <td>3</td>\n",
       "      <td>6353</td>\n",
       "      <td>8808</td>\n",
       "      <td>7684</td>\n",
       "      <td>2405</td>\n",
       "      <td>3516</td>\n",
       "      <td>7844</td>\n",
       "      <td>1</td>\n",
       "    </tr>\n",
       "    <tr>\n",
       "      <th>3</th>\n",
       "      <td>1</td>\n",
       "      <td>3</td>\n",
       "      <td>13265</td>\n",
       "      <td>1196</td>\n",
       "      <td>4221</td>\n",
       "      <td>6404</td>\n",
       "      <td>507</td>\n",
       "      <td>1788</td>\n",
       "      <td>0</td>\n",
       "    </tr>\n",
       "    <tr>\n",
       "      <th>4</th>\n",
       "      <td>2</td>\n",
       "      <td>3</td>\n",
       "      <td>22615</td>\n",
       "      <td>5410</td>\n",
       "      <td>7198</td>\n",
       "      <td>3915</td>\n",
       "      <td>1777</td>\n",
       "      <td>5185</td>\n",
       "      <td>1</td>\n",
       "    </tr>\n",
       "  </tbody>\n",
       "</table>\n",
       "</div>"
      ],
      "text/plain": [
       "   Channel  Region  Fresh  Milk  Grocery  Frozen  Detergents_Paper  \\\n",
       "0        2       3  12669  9656     7561     214              2674   \n",
       "1        2       3   7057  9810     9568    1762              3293   \n",
       "2        2       3   6353  8808     7684    2405              3516   \n",
       "3        1       3  13265  1196     4221    6404               507   \n",
       "4        2       3  22615  5410     7198    3915              1777   \n",
       "\n",
       "   Delicassen  labels_KMEAN  \n",
       "0        1338             1  \n",
       "1        1776             1  \n",
       "2        7844             1  \n",
       "3        1788             0  \n",
       "4        5185             1  "
      ]
     },
     "execution_count": 19,
     "metadata": {},
     "output_type": "execute_result"
    }
   ],
   "source": [
    "customers.head()"
   ]
  },
  {
   "cell_type": "markdown",
   "metadata": {},
   "source": [
    "Count the values in `labels`."
   ]
  },
  {
   "cell_type": "code",
   "execution_count": 20,
   "metadata": {},
   "outputs": [
    {
     "data": {
      "text/plain": [
       "0    297\n",
       "1    130\n",
       "2     13\n",
       "Name: labels_KMEAN, dtype: int64"
      ]
     },
     "execution_count": 20,
     "metadata": {},
     "output_type": "execute_result"
    }
   ],
   "source": [
    "# Your code here:\n",
    "customers[\"labels_KMEAN\"].value_counts() #3 types of customers I guess; there are more of type 0 and less of type 2"
   ]
  },
  {
   "cell_type": "markdown",
   "metadata": {},
   "source": [
    "# Challenge 4 - Data Clustering with DBSCAN\n",
    "\n",
    "Now let's cluster the data using DBSCAN. Use `DBSCAN(eps=0.5)` to initiate the model, then fit your scaled data. In the data returned from the `.fit` method, assign the `labels_` back to `customers['labels_DBSCAN']`. Now your original data have two labels, one from K-Means and the other from DBSCAN."
   ]
  },
  {
   "cell_type": "code",
   "execution_count": 21,
   "metadata": {
    "scrolled": true
   },
   "outputs": [],
   "source": [
    "# Your code here\n",
    "from sklearn.cluster import DBSCAN\n",
    "cluster = DBSCAN(eps=0.4)\n",
    "model = cluster.fit(customers_scale)\n",
    "customers[\"labels_DBSCAN\"] = model.labels_"
   ]
  },
  {
   "cell_type": "code",
   "execution_count": 22,
   "metadata": {},
   "outputs": [
    {
     "data": {
      "text/html": [
       "<div>\n",
       "<style scoped>\n",
       "    .dataframe tbody tr th:only-of-type {\n",
       "        vertical-align: middle;\n",
       "    }\n",
       "\n",
       "    .dataframe tbody tr th {\n",
       "        vertical-align: top;\n",
       "    }\n",
       "\n",
       "    .dataframe thead th {\n",
       "        text-align: right;\n",
       "    }\n",
       "</style>\n",
       "<table border=\"1\" class=\"dataframe\">\n",
       "  <thead>\n",
       "    <tr style=\"text-align: right;\">\n",
       "      <th></th>\n",
       "      <th>Channel</th>\n",
       "      <th>Region</th>\n",
       "      <th>Fresh</th>\n",
       "      <th>Milk</th>\n",
       "      <th>Grocery</th>\n",
       "      <th>Frozen</th>\n",
       "      <th>Detergents_Paper</th>\n",
       "      <th>Delicassen</th>\n",
       "      <th>labels_KMEAN</th>\n",
       "      <th>labels_DBSCAN</th>\n",
       "    </tr>\n",
       "  </thead>\n",
       "  <tbody>\n",
       "    <tr>\n",
       "      <th>0</th>\n",
       "      <td>2</td>\n",
       "      <td>3</td>\n",
       "      <td>12669</td>\n",
       "      <td>9656</td>\n",
       "      <td>7561</td>\n",
       "      <td>214</td>\n",
       "      <td>2674</td>\n",
       "      <td>1338</td>\n",
       "      <td>1</td>\n",
       "      <td>-1</td>\n",
       "    </tr>\n",
       "    <tr>\n",
       "      <th>1</th>\n",
       "      <td>2</td>\n",
       "      <td>3</td>\n",
       "      <td>7057</td>\n",
       "      <td>9810</td>\n",
       "      <td>9568</td>\n",
       "      <td>1762</td>\n",
       "      <td>3293</td>\n",
       "      <td>1776</td>\n",
       "      <td>1</td>\n",
       "      <td>-1</td>\n",
       "    </tr>\n",
       "    <tr>\n",
       "      <th>2</th>\n",
       "      <td>2</td>\n",
       "      <td>3</td>\n",
       "      <td>6353</td>\n",
       "      <td>8808</td>\n",
       "      <td>7684</td>\n",
       "      <td>2405</td>\n",
       "      <td>3516</td>\n",
       "      <td>7844</td>\n",
       "      <td>1</td>\n",
       "      <td>-1</td>\n",
       "    </tr>\n",
       "    <tr>\n",
       "      <th>3</th>\n",
       "      <td>1</td>\n",
       "      <td>3</td>\n",
       "      <td>13265</td>\n",
       "      <td>1196</td>\n",
       "      <td>4221</td>\n",
       "      <td>6404</td>\n",
       "      <td>507</td>\n",
       "      <td>1788</td>\n",
       "      <td>0</td>\n",
       "      <td>-1</td>\n",
       "    </tr>\n",
       "    <tr>\n",
       "      <th>4</th>\n",
       "      <td>2</td>\n",
       "      <td>3</td>\n",
       "      <td>22615</td>\n",
       "      <td>5410</td>\n",
       "      <td>7198</td>\n",
       "      <td>3915</td>\n",
       "      <td>1777</td>\n",
       "      <td>5185</td>\n",
       "      <td>1</td>\n",
       "      <td>-1</td>\n",
       "    </tr>\n",
       "  </tbody>\n",
       "</table>\n",
       "</div>"
      ],
      "text/plain": [
       "   Channel  Region  Fresh  Milk  Grocery  Frozen  Detergents_Paper  \\\n",
       "0        2       3  12669  9656     7561     214              2674   \n",
       "1        2       3   7057  9810     9568    1762              3293   \n",
       "2        2       3   6353  8808     7684    2405              3516   \n",
       "3        1       3  13265  1196     4221    6404               507   \n",
       "4        2       3  22615  5410     7198    3915              1777   \n",
       "\n",
       "   Delicassen  labels_KMEAN  labels_DBSCAN  \n",
       "0        1338             1             -1  \n",
       "1        1776             1             -1  \n",
       "2        7844             1             -1  \n",
       "3        1788             0             -1  \n",
       "4        5185             1             -1  "
      ]
     },
     "execution_count": 22,
     "metadata": {},
     "output_type": "execute_result"
    }
   ],
   "source": [
    "customers.head()"
   ]
  },
  {
   "cell_type": "markdown",
   "metadata": {},
   "source": [
    "Count the values in `labels_DBSCAN`."
   ]
  },
  {
   "cell_type": "code",
   "execution_count": 23,
   "metadata": {},
   "outputs": [
    {
     "name": "stdout",
     "output_type": "stream",
     "text": [
      "3\n"
     ]
    },
    {
     "data": {
      "text/plain": [
       "-1    322\n",
       " 0    107\n",
       " 1     11\n",
       "Name: labels_DBSCAN, dtype: int64"
      ]
     },
     "execution_count": 23,
     "metadata": {},
     "output_type": "execute_result"
    }
   ],
   "source": [
    "# Your code here\n",
    "print(len(customers[\"labels_DBSCAN\"].value_counts())) #eps parameter in DBSCAN changes the number of labels. 3 seems better\n",
    "customers[\"labels_DBSCAN\"].value_counts()\n",
    "\n"
   ]
  },
  {
   "cell_type": "markdown",
   "metadata": {},
   "source": [
    "# Challenge 5 - Compare K-Means with DBSCAN\n",
    "\n",
    "Now we want to visually compare how K-Means and DBSCAN have clustered our data. We will create scatter plots for several columns. For each of the following column pairs, plot a scatter plot using `labels` and another using `labels_DBSCAN`. Put them side by side to compare. Which clustering algorithm makes better sense?\n",
    "\n",
    "Columns to visualize:\n",
    "\n",
    "* `Detergents_Paper` as X and `Milk` as y\n",
    "* `Grocery` as X and `Fresh` as y\n",
    "* `Frozen` as X and `Delicassen` as y"
   ]
  },
  {
   "cell_type": "markdown",
   "metadata": {},
   "source": [
    "Visualize `Detergents_Paper` as X and `Milk` as y by `labels` and `labels_DBSCAN` respectively"
   ]
  },
  {
   "cell_type": "code",
   "execution_count": 24,
   "metadata": {},
   "outputs": [
    {
     "name": "stderr",
     "output_type": "stream",
     "text": [
      "/Library/Frameworks/Python.framework/Versions/3.6/lib/python3.6/site-packages/ipykernel_launcher.py:10: UserWarning: Matplotlib is currently using module://ipykernel.pylab.backend_inline, which is a non-GUI backend, so cannot show the figure.\n",
      "  # Remove the CWD from sys.path while we load stuff.\n"
     ]
    },
    {
     "data": {
      "text/plain": [
       "'\\n\\n'"
      ]
     },
     "execution_count": 24,
     "metadata": {},
     "output_type": "execute_result"
    },
    {
     "data": {
      "image/png": "[encoded data removed]",
      "text/plain": [
       "<Figure size 1440x360 with 2 Axes>"
      ]
     },
     "metadata": {
      "needs_background": "light"
     },
     "output_type": "display_data"
    }
   ],
   "source": [
    "# Your code here:\n",
    "X = customers.Detergents_Paper\n",
    "y = customers.Milk\n",
    "\n",
    "fig, ax =plt.subplots(1,2, figsize=(20,5))\n",
    "sns.scatterplot(X,y, hue=\"labels_KMEAN\", data = customers, ax = ax[0])\n",
    "sns.scatterplot(X,y, hue=\"labels_DBSCAN\", data = customers, ax = ax[1])\n",
    "\n",
    "fig.show()\n",
    "\n",
    "'''\n",
    "KMEN seems a better model for clustering our data\n",
    "'''"
   ]
  },
  {
   "cell_type": "markdown",
   "metadata": {},
   "source": [
    "Visualize `Grocery` as X and `Fresh` as y by `labels` and `labels_DBSCAN` respectively"
   ]
  },
  {
   "cell_type": "code",
   "execution_count": 25,
   "metadata": {},
   "outputs": [
    {
     "name": "stderr",
     "output_type": "stream",
     "text": [
      "/Library/Frameworks/Python.framework/Versions/3.6/lib/python3.6/site-packages/ipykernel_launcher.py:9: UserWarning: Matplotlib is currently using module://ipykernel.pylab.backend_inline, which is a non-GUI backend, so cannot show the figure.\n",
      "  if __name__ == '__main__':\n"
     ]
    },
    {
     "data": {
      "text/plain": [
       "'\\nKMEN seems a better model for clustering our data\\n'"
      ]
     },
     "execution_count": 25,
     "metadata": {},
     "output_type": "execute_result"
    },
    {
     "data": {
      "image/png": "[encoded data removed]",
      "text/plain": [
       "<Figure size 1440x360 with 2 Axes>"
      ]
     },
     "metadata": {
      "needs_background": "light"
     },
     "output_type": "display_data"
    }
   ],
   "source": [
    "# Your code here:\n",
    "X = customers.Grocery\n",
    "y = customers.Fresh\n",
    "\n",
    "fig, ax =plt.subplots(1,2, figsize=(20,5))\n",
    "sns.scatterplot(X,y, hue=\"labels_KMEAN\", data = customers, ax = ax[0])\n",
    "sns.scatterplot(X,y, hue=\"labels_DBSCAN\", data = customers, ax = ax[1])\n",
    "\n",
    "fig.show()\n",
    "\n",
    "'''\n",
    "KMEN seems a better model for clustering our data still\n",
    "'''"
   ]
  },
  {
   "cell_type": "markdown",
   "metadata": {},
   "source": [
    "Visualize `Frozen` as X and `Delicassen` as y by `labels` and `labels_DBSCAN` respectively"
   ]
  },
  {
   "cell_type": "code",
   "execution_count": 26,
   "metadata": {},
   "outputs": [
    {
     "name": "stderr",
     "output_type": "stream",
     "text": [
      "/Library/Frameworks/Python.framework/Versions/3.6/lib/python3.6/site-packages/ipykernel_launcher.py:9: UserWarning: Matplotlib is currently using module://ipykernel.pylab.backend_inline, which is a non-GUI backend, so cannot show the figure.\n",
      "  if __name__ == '__main__':\n"
     ]
    },
    {
     "data": {
      "text/plain": [
       "'\\nKMEN seems a better model for clustering our data still\\n'"
      ]
     },
     "execution_count": 26,
     "metadata": {},
     "output_type": "execute_result"
    },
    {
     "data": {
      "image/png": "[encoded data removed]",
      "text/plain": [
       "<Figure size 1440x360 with 2 Axes>"
      ]
     },
     "metadata": {
      "needs_background": "light"
     },
     "output_type": "display_data"
    }
   ],
   "source": [
    "# Your code here:\n",
    "X = customers.Frozen\n",
    "y = customers.Delicassen\n",
    "\n",
    "fig, ax =plt.subplots(1,2, figsize=(20,5))\n",
    "sns.scatterplot(X,y, hue=\"labels_KMEAN\", data = customers, ax = ax[0])\n",
    "sns.scatterplot(X,y, hue=\"labels_DBSCAN\", data = customers, ax = ax[1])\n",
    "\n",
    "fig.show()\n",
    "\n",
    "'''\n",
    "Here it seems that none of the models did a great job\n",
    "'''"
   ]
  },
  {
   "cell_type": "markdown",
   "metadata": {},
   "source": [
    "Let's use a groupby to see how the mean differs between the groups. Group `customers` by `labels` and `labels_DBSCAN` respectively and compute the means for all columns."
   ]
  },
  {
   "cell_type": "code",
   "execution_count": 29,
   "metadata": {},
   "outputs": [
    {
     "data": {
      "text/html": [
       "<div>\n",
       "<style scoped>\n",
       "    .dataframe tbody tr th:only-of-type {\n",
       "        vertical-align: middle;\n",
       "    }\n",
       "\n",
       "    .dataframe tbody tr th {\n",
       "        vertical-align: top;\n",
       "    }\n",
       "\n",
       "    .dataframe thead th {\n",
       "        text-align: right;\n",
       "    }\n",
       "</style>\n",
       "<table border=\"1\" class=\"dataframe\">\n",
       "  <thead>\n",
       "    <tr style=\"text-align: right;\">\n",
       "      <th></th>\n",
       "      <th>Channel</th>\n",
       "      <th>Region</th>\n",
       "      <th>Fresh</th>\n",
       "      <th>Milk</th>\n",
       "      <th>Grocery</th>\n",
       "      <th>Frozen</th>\n",
       "      <th>Detergents_Paper</th>\n",
       "      <th>Delicassen</th>\n",
       "      <th>labels_DBSCAN</th>\n",
       "    </tr>\n",
       "    <tr>\n",
       "      <th>labels_KMEAN</th>\n",
       "      <th></th>\n",
       "      <th></th>\n",
       "      <th></th>\n",
       "      <th></th>\n",
       "      <th></th>\n",
       "      <th></th>\n",
       "      <th></th>\n",
       "      <th></th>\n",
       "      <th></th>\n",
       "    </tr>\n",
       "  </thead>\n",
       "  <tbody>\n",
       "    <tr>\n",
       "      <th>0</th>\n",
       "      <td>1.003367</td>\n",
       "      <td>2.505051</td>\n",
       "      <td>13075.898990</td>\n",
       "      <td>3218.737374</td>\n",
       "      <td>3855.696970</td>\n",
       "      <td>3620.400673</td>\n",
       "      <td>776.875421</td>\n",
       "      <td>1242.249158</td>\n",
       "      <td>-0.565657</td>\n",
       "    </tr>\n",
       "    <tr>\n",
       "      <th>1</th>\n",
       "      <td>2.000000</td>\n",
       "      <td>2.623077</td>\n",
       "      <td>8165.915385</td>\n",
       "      <td>8748.515385</td>\n",
       "      <td>13905.492308</td>\n",
       "      <td>1441.630769</td>\n",
       "      <td>5991.146154</td>\n",
       "      <td>1535.007692</td>\n",
       "      <td>-1.000000</td>\n",
       "    </tr>\n",
       "    <tr>\n",
       "      <th>2</th>\n",
       "      <td>1.846154</td>\n",
       "      <td>2.615385</td>\n",
       "      <td>25770.769231</td>\n",
       "      <td>35160.384615</td>\n",
       "      <td>41977.384615</td>\n",
       "      <td>6844.538462</td>\n",
       "      <td>19867.384615</td>\n",
       "      <td>7880.307692</td>\n",
       "      <td>-1.000000</td>\n",
       "    </tr>\n",
       "  </tbody>\n",
       "</table>\n",
       "</div>"
      ],
      "text/plain": [
       "               Channel    Region         Fresh          Milk       Grocery  \\\n",
       "labels_KMEAN                                                                 \n",
       "0             1.003367  2.505051  13075.898990   3218.737374   3855.696970   \n",
       "1             2.000000  2.623077   8165.915385   8748.515385  13905.492308   \n",
       "2             1.846154  2.615385  25770.769231  35160.384615  41977.384615   \n",
       "\n",
       "                   Frozen  Detergents_Paper   Delicassen  labels_DBSCAN  \n",
       "labels_KMEAN                                                             \n",
       "0             3620.400673        776.875421  1242.249158      -0.565657  \n",
       "1             1441.630769       5991.146154  1535.007692      -1.000000  \n",
       "2             6844.538462      19867.384615  7880.307692      -1.000000  "
      ]
     },
     "execution_count": 29,
     "metadata": {},
     "output_type": "execute_result"
    }
   ],
   "source": [
    "# Your code here:\n",
    "customer_KMEAN = customers.groupby(\"labels_KMEAN\").agg(\"mean\")\n",
    "customer_KMEAN"
   ]
  },
  {
   "cell_type": "code",
   "execution_count": 30,
   "metadata": {},
   "outputs": [
    {
     "data": {
      "text/html": [
       "<div>\n",
       "<style scoped>\n",
       "    .dataframe tbody tr th:only-of-type {\n",
       "        vertical-align: middle;\n",
       "    }\n",
       "\n",
       "    .dataframe tbody tr th {\n",
       "        vertical-align: top;\n",
       "    }\n",
       "\n",
       "    .dataframe thead th {\n",
       "        text-align: right;\n",
       "    }\n",
       "</style>\n",
       "<table border=\"1\" class=\"dataframe\">\n",
       "  <thead>\n",
       "    <tr style=\"text-align: right;\">\n",
       "      <th></th>\n",
       "      <th>Channel</th>\n",
       "      <th>Region</th>\n",
       "      <th>Fresh</th>\n",
       "      <th>Milk</th>\n",
       "      <th>Grocery</th>\n",
       "      <th>Frozen</th>\n",
       "      <th>Detergents_Paper</th>\n",
       "      <th>Delicassen</th>\n",
       "      <th>labels_KMEAN</th>\n",
       "    </tr>\n",
       "    <tr>\n",
       "      <th>labels_DBSCAN</th>\n",
       "      <th></th>\n",
       "      <th></th>\n",
       "      <th></th>\n",
       "      <th></th>\n",
       "      <th></th>\n",
       "      <th></th>\n",
       "      <th></th>\n",
       "      <th></th>\n",
       "      <th></th>\n",
       "    </tr>\n",
       "  </thead>\n",
       "  <tbody>\n",
       "    <tr>\n",
       "      <th>-1</th>\n",
       "      <td>1.440994</td>\n",
       "      <td>2.444099</td>\n",
       "      <td>13558.916149</td>\n",
       "      <td>7260.670807</td>\n",
       "      <td>10056.968944</td>\n",
       "      <td>3528.465839</td>\n",
       "      <td>3781.596273</td>\n",
       "      <td>1840.093168</td>\n",
       "      <td>0.484472</td>\n",
       "    </tr>\n",
       "    <tr>\n",
       "      <th>0</th>\n",
       "      <td>1.000000</td>\n",
       "      <td>3.000000</td>\n",
       "      <td>7782.233645</td>\n",
       "      <td>1797.074766</td>\n",
       "      <td>2235.345794</td>\n",
       "      <td>1876.560748</td>\n",
       "      <td>433.476636</td>\n",
       "      <td>684.373832</td>\n",
       "      <td>0.000000</td>\n",
       "    </tr>\n",
       "    <tr>\n",
       "      <th>1</th>\n",
       "      <td>1.000000</td>\n",
       "      <td>1.000000</td>\n",
       "      <td>7405.545455</td>\n",
       "      <td>1830.363636</td>\n",
       "      <td>1912.363636</td>\n",
       "      <td>1335.636364</td>\n",
       "      <td>345.545455</td>\n",
       "      <td>473.181818</td>\n",
       "      <td>0.000000</td>\n",
       "    </tr>\n",
       "  </tbody>\n",
       "</table>\n",
       "</div>"
      ],
      "text/plain": [
       "                Channel    Region         Fresh         Milk       Grocery  \\\n",
       "labels_DBSCAN                                                                \n",
       "-1             1.440994  2.444099  13558.916149  7260.670807  10056.968944   \n",
       " 0             1.000000  3.000000   7782.233645  1797.074766   2235.345794   \n",
       " 1             1.000000  1.000000   7405.545455  1830.363636   1912.363636   \n",
       "\n",
       "                    Frozen  Detergents_Paper   Delicassen  labels_KMEAN  \n",
       "labels_DBSCAN                                                            \n",
       "-1             3528.465839       3781.596273  1840.093168      0.484472  \n",
       " 0             1876.560748        433.476636   684.373832      0.000000  \n",
       " 1             1335.636364        345.545455   473.181818      0.000000  "
      ]
     },
     "execution_count": 30,
     "metadata": {},
     "output_type": "execute_result"
    }
   ],
   "source": [
    "customer_DBSCAN = customers.groupby(\"labels_DBSCAN\").agg(\"mean\")\n",
    "customer_DBSCAN"
   ]
  },
  {
   "cell_type": "markdown",
   "metadata": {},
   "source": [
    "Which algorithm appears to perform better?"
   ]
  },
  {
   "cell_type": "code",
   "execution_count": null,
   "metadata": {},
   "outputs": [],
   "source": [
    "# Your observations here\n",
    "'''\n",
    "Well now I don't know xD\n",
    "Is it suppose to see which model is returning labels where the mean across each of the goods (Milk, Grocery, ect)\n",
    "varies more? it means the clusters are more obvious and overlap less right?\n",
    "\n",
    "If that's the case I believe the K_MEAN is doing a better job. I had already confirmed it with the scatter plots.\n",
    "'''"
   ]
  },
  {
   "cell_type": "markdown",
   "metadata": {},
   "source": [
    "# Bonus Challenge 2 - Changing K-Means Number of Clusters\n",
    "\n",
    "As we mentioned earlier, we don't need to worry about the number of clusters with DBSCAN because it automatically decides that based on the parameters we send to it. But with K-Means, we have to supply the `n_clusters` param (if you don't supply `n_clusters`, the algorithm will use `8` by default). You need to know that the optimal number of clusters differs case by case based on the dataset. K-Means can perform badly if the wrong number of clusters is used.\n",
    "\n",
    "In advanced machine learning, data scientists try different numbers of clusters and evaluate the results with statistical measures (read [here](https://en.wikipedia.org/wiki/Cluster_analysis#External_evaluation)). We are not using statistical measures today but we'll use our eyes instead. In the cells below, experiment with different number of clusters and visualize with scatter plots. What number of clusters seems to work best for K-Means?"
   ]
  },
  {
   "cell_type": "code",
   "execution_count": 35,
   "metadata": {},
   "outputs": [],
   "source": [
    "# Your code here\n",
    "for k in range(2,10):\n",
    "    cluster = KMeans(n_clusters=k, random_state=0, n_jobs=-1)\n",
    "model = cluster.fit(customers_scale)"
   ]
  },
  {
   "cell_type": "code",
   "execution_count": null,
   "metadata": {},
   "outputs": [],
   "source": [
    "# Your comment here"
   ]
  },
  {
   "cell_type": "markdown",
   "metadata": {},
   "source": [
    "# Bonus Challenge 3 - Changing DBSCAN `eps` and `min_samples`\n",
    "\n",
    "Experiment changing the `eps` and `min_samples` params for DBSCAN. See how the results differ with scatter plot visualization."
   ]
  },
  {
   "cell_type": "code",
   "execution_count": null,
   "metadata": {},
   "outputs": [],
   "source": [
    "# Your code here"
   ]
  },
  {
   "cell_type": "code",
   "execution_count": null,
   "metadata": {},
   "outputs": [],
   "source": [
    "# Your comment here"
   ]
  }
 ],
 "metadata": {
  "kernelspec": {
   "display_name": "Python 3",
   "language": "python",
   "name": "python3"
  },
  "language_info": {
   "codemirror_mode": {
    "name": "ipython",
    "version": 3
   },
   "file_extension": ".py",
   "mimetype": "text/x-python",
   "name": "python",
   "nbconvert_exporter": "python",
   "pygments_lexer": "ipython3",
   "version": "3.6.1"
  }
 },
 "nbformat": 4,
 "nbformat_minor": 2
}
