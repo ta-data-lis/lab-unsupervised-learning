{
 "cells": [
  {
   "cell_type": "markdown",
   "metadata": {},
   "source": [
    "# Before your start:\n",
    "- Read the README.md file\n",
    "- Comment as much as you can and use the resources in the README.md file\n",
    "- Happy learning!"
   ]
  },
  {
   "cell_type": "code",
   "execution_count": 1,
   "metadata": {},
   "outputs": [],
   "source": [
    "# Import your libraries:\n",
    "\n",
    "%matplotlib inline\n",
    "\n",
    "import matplotlib.pyplot as plt\n",
    "import numpy as np\n",
    "import pandas as pd"
   ]
  },
  {
   "cell_type": "markdown",
   "metadata": {},
   "source": [
    "# Challenge 1 - Import and Describe the Dataset\n",
    "\n",
    "In this lab, we will use a dataset containing information about customer preferences. We will look at how much each customer spends in a year on each subcategory in the grocery store and try to find similarities using clustering.\n",
    "\n",
    "The origin of the dataset is [here](https://archive.ics.uci.edu/ml/datasets/wholesale+customers)."
   ]
  },
  {
   "cell_type": "code",
   "execution_count": 2,
   "metadata": {},
   "outputs": [],
   "source": [
    "# loading the data:\n",
    "customers = pd.read_csv('../Wholesale customers data.csv')"
   ]
  },
  {
   "cell_type": "markdown",
   "metadata": {},
   "source": [
    "#### Explore the dataset with mathematical and visualization techniques. What do you find?\n",
    "\n",
    "Checklist:\n",
    "\n",
    "* What does each column mean?\n",
    "* Any categorical data to convert?\n",
    "* Any missing data to remove?\n",
    "* Column collinearity - any high correlations?\n",
    "* Descriptive statistics - any outliers to remove?\n",
    "* Column-wise data distribution - is the distribution skewed?\n",
    "* Etc.\n",
    "\n",
    "Additional info: Over a century ago, an Italian economist named Vilfredo Pareto discovered that roughly 20% of the customers account for 80% of the typical retail sales. This is called the [Pareto principle](https://en.wikipedia.org/wiki/Pareto_principle). Check if this dataset displays this characteristic."
   ]
  },
  {
   "cell_type": "code",
   "execution_count": 3,
   "metadata": {},
   "outputs": [
    {
     "data": {
      "text/html": [
       "<div>\n",
       "<style scoped>\n",
       "    .dataframe tbody tr th:only-of-type {\n",
       "        vertical-align: middle;\n",
       "    }\n",
       "\n",
       "    .dataframe tbody tr th {\n",
       "        vertical-align: top;\n",
       "    }\n",
       "\n",
       "    .dataframe thead th {\n",
       "        text-align: right;\n",
       "    }\n",
       "</style>\n",
       "<table border=\"1\" class=\"dataframe\">\n",
       "  <thead>\n",
       "    <tr style=\"text-align: right;\">\n",
       "      <th></th>\n",
       "      <th>Channel</th>\n",
       "      <th>Region</th>\n",
       "      <th>Fresh</th>\n",
       "      <th>Milk</th>\n",
       "      <th>Grocery</th>\n",
       "      <th>Frozen</th>\n",
       "      <th>Detergents_Paper</th>\n",
       "      <th>Delicassen</th>\n",
       "    </tr>\n",
       "  </thead>\n",
       "  <tbody>\n",
       "    <tr>\n",
       "      <th>0</th>\n",
       "      <td>2</td>\n",
       "      <td>3</td>\n",
       "      <td>12669</td>\n",
       "      <td>9656</td>\n",
       "      <td>7561</td>\n",
       "      <td>214</td>\n",
       "      <td>2674</td>\n",
       "      <td>1338</td>\n",
       "    </tr>\n",
       "    <tr>\n",
       "      <th>1</th>\n",
       "      <td>2</td>\n",
       "      <td>3</td>\n",
       "      <td>7057</td>\n",
       "      <td>9810</td>\n",
       "      <td>9568</td>\n",
       "      <td>1762</td>\n",
       "      <td>3293</td>\n",
       "      <td>1776</td>\n",
       "    </tr>\n",
       "    <tr>\n",
       "      <th>2</th>\n",
       "      <td>2</td>\n",
       "      <td>3</td>\n",
       "      <td>6353</td>\n",
       "      <td>8808</td>\n",
       "      <td>7684</td>\n",
       "      <td>2405</td>\n",
       "      <td>3516</td>\n",
       "      <td>7844</td>\n",
       "    </tr>\n",
       "    <tr>\n",
       "      <th>3</th>\n",
       "      <td>1</td>\n",
       "      <td>3</td>\n",
       "      <td>13265</td>\n",
       "      <td>1196</td>\n",
       "      <td>4221</td>\n",
       "      <td>6404</td>\n",
       "      <td>507</td>\n",
       "      <td>1788</td>\n",
       "    </tr>\n",
       "    <tr>\n",
       "      <th>4</th>\n",
       "      <td>2</td>\n",
       "      <td>3</td>\n",
       "      <td>22615</td>\n",
       "      <td>5410</td>\n",
       "      <td>7198</td>\n",
       "      <td>3915</td>\n",
       "      <td>1777</td>\n",
       "      <td>5185</td>\n",
       "    </tr>\n",
       "    <tr>\n",
       "      <th>...</th>\n",
       "      <td>...</td>\n",
       "      <td>...</td>\n",
       "      <td>...</td>\n",
       "      <td>...</td>\n",
       "      <td>...</td>\n",
       "      <td>...</td>\n",
       "      <td>...</td>\n",
       "      <td>...</td>\n",
       "    </tr>\n",
       "    <tr>\n",
       "      <th>435</th>\n",
       "      <td>1</td>\n",
       "      <td>3</td>\n",
       "      <td>29703</td>\n",
       "      <td>12051</td>\n",
       "      <td>16027</td>\n",
       "      <td>13135</td>\n",
       "      <td>182</td>\n",
       "      <td>2204</td>\n",
       "    </tr>\n",
       "    <tr>\n",
       "      <th>436</th>\n",
       "      <td>1</td>\n",
       "      <td>3</td>\n",
       "      <td>39228</td>\n",
       "      <td>1431</td>\n",
       "      <td>764</td>\n",
       "      <td>4510</td>\n",
       "      <td>93</td>\n",
       "      <td>2346</td>\n",
       "    </tr>\n",
       "    <tr>\n",
       "      <th>437</th>\n",
       "      <td>2</td>\n",
       "      <td>3</td>\n",
       "      <td>14531</td>\n",
       "      <td>15488</td>\n",
       "      <td>30243</td>\n",
       "      <td>437</td>\n",
       "      <td>14841</td>\n",
       "      <td>1867</td>\n",
       "    </tr>\n",
       "    <tr>\n",
       "      <th>438</th>\n",
       "      <td>1</td>\n",
       "      <td>3</td>\n",
       "      <td>10290</td>\n",
       "      <td>1981</td>\n",
       "      <td>2232</td>\n",
       "      <td>1038</td>\n",
       "      <td>168</td>\n",
       "      <td>2125</td>\n",
       "    </tr>\n",
       "    <tr>\n",
       "      <th>439</th>\n",
       "      <td>1</td>\n",
       "      <td>3</td>\n",
       "      <td>2787</td>\n",
       "      <td>1698</td>\n",
       "      <td>2510</td>\n",
       "      <td>65</td>\n",
       "      <td>477</td>\n",
       "      <td>52</td>\n",
       "    </tr>\n",
       "  </tbody>\n",
       "</table>\n",
       "<p>440 rows × 8 columns</p>\n",
       "</div>"
      ],
      "text/plain": [
       "     Channel  Region  Fresh   Milk  Grocery  Frozen  Detergents_Paper  \\\n",
       "0          2       3  12669   9656     7561     214              2674   \n",
       "1          2       3   7057   9810     9568    1762              3293   \n",
       "2          2       3   6353   8808     7684    2405              3516   \n",
       "3          1       3  13265   1196     4221    6404               507   \n",
       "4          2       3  22615   5410     7198    3915              1777   \n",
       "..       ...     ...    ...    ...      ...     ...               ...   \n",
       "435        1       3  29703  12051    16027   13135               182   \n",
       "436        1       3  39228   1431      764    4510                93   \n",
       "437        2       3  14531  15488    30243     437             14841   \n",
       "438        1       3  10290   1981     2232    1038               168   \n",
       "439        1       3   2787   1698     2510      65               477   \n",
       "\n",
       "     Delicassen  \n",
       "0          1338  \n",
       "1          1776  \n",
       "2          7844  \n",
       "3          1788  \n",
       "4          5185  \n",
       "..          ...  \n",
       "435        2204  \n",
       "436        2346  \n",
       "437        1867  \n",
       "438        2125  \n",
       "439          52  \n",
       "\n",
       "[440 rows x 8 columns]"
      ]
     },
     "execution_count": 3,
     "metadata": {},
     "output_type": "execute_result"
    }
   ],
   "source": [
    "# Your code here:\n",
    "customers"
   ]
  },
  {
   "cell_type": "code",
   "execution_count": 4,
   "metadata": {},
   "outputs": [
    {
     "data": {
      "text/plain": [
       "Channel             0\n",
       "Region              0\n",
       "Fresh               0\n",
       "Milk                0\n",
       "Grocery             0\n",
       "Frozen              0\n",
       "Detergents_Paper    0\n",
       "Delicassen          0\n",
       "dtype: int64"
      ]
     },
     "execution_count": 4,
     "metadata": {},
     "output_type": "execute_result"
    }
   ],
   "source": [
    "customers.isna().sum()\n"
   ]
  },
  {
   "cell_type": "code",
   "execution_count": 5,
   "metadata": {},
   "outputs": [
    {
     "data": {
      "text/plain": [
       "Channel             int64\n",
       "Region              int64\n",
       "Fresh               int64\n",
       "Milk                int64\n",
       "Grocery             int64\n",
       "Frozen              int64\n",
       "Detergents_Paper    int64\n",
       "Delicassen          int64\n",
       "dtype: object"
      ]
     },
     "execution_count": 5,
     "metadata": {},
     "output_type": "execute_result"
    }
   ],
   "source": [
    "customers.dtypes"
   ]
  },
  {
   "cell_type": "code",
   "execution_count": 6,
   "metadata": {},
   "outputs": [
    {
     "data": {
      "text/html": [
       "<div>\n",
       "<style scoped>\n",
       "    .dataframe tbody tr th:only-of-type {\n",
       "        vertical-align: middle;\n",
       "    }\n",
       "\n",
       "    .dataframe tbody tr th {\n",
       "        vertical-align: top;\n",
       "    }\n",
       "\n",
       "    .dataframe thead th {\n",
       "        text-align: right;\n",
       "    }\n",
       "</style>\n",
       "<table border=\"1\" class=\"dataframe\">\n",
       "  <thead>\n",
       "    <tr style=\"text-align: right;\">\n",
       "      <th></th>\n",
       "      <th>Channel</th>\n",
       "      <th>Region</th>\n",
       "      <th>Fresh</th>\n",
       "      <th>Milk</th>\n",
       "      <th>Grocery</th>\n",
       "      <th>Frozen</th>\n",
       "      <th>Detergents_Paper</th>\n",
       "      <th>Delicassen</th>\n",
       "    </tr>\n",
       "  </thead>\n",
       "  <tbody>\n",
       "    <tr>\n",
       "      <th>count</th>\n",
       "      <td>440.000000</td>\n",
       "      <td>440.000000</td>\n",
       "      <td>440.000000</td>\n",
       "      <td>440.000000</td>\n",
       "      <td>440.000000</td>\n",
       "      <td>440.000000</td>\n",
       "      <td>440.000000</td>\n",
       "      <td>440.000000</td>\n",
       "    </tr>\n",
       "    <tr>\n",
       "      <th>mean</th>\n",
       "      <td>1.322727</td>\n",
       "      <td>2.543182</td>\n",
       "      <td>12000.297727</td>\n",
       "      <td>5796.265909</td>\n",
       "      <td>7951.277273</td>\n",
       "      <td>3071.931818</td>\n",
       "      <td>2881.493182</td>\n",
       "      <td>1524.870455</td>\n",
       "    </tr>\n",
       "    <tr>\n",
       "      <th>std</th>\n",
       "      <td>0.468052</td>\n",
       "      <td>0.774272</td>\n",
       "      <td>12647.328865</td>\n",
       "      <td>7380.377175</td>\n",
       "      <td>9503.162829</td>\n",
       "      <td>4854.673333</td>\n",
       "      <td>4767.854448</td>\n",
       "      <td>2820.105937</td>\n",
       "    </tr>\n",
       "    <tr>\n",
       "      <th>min</th>\n",
       "      <td>1.000000</td>\n",
       "      <td>1.000000</td>\n",
       "      <td>3.000000</td>\n",
       "      <td>55.000000</td>\n",
       "      <td>3.000000</td>\n",
       "      <td>25.000000</td>\n",
       "      <td>3.000000</td>\n",
       "      <td>3.000000</td>\n",
       "    </tr>\n",
       "    <tr>\n",
       "      <th>25%</th>\n",
       "      <td>1.000000</td>\n",
       "      <td>2.000000</td>\n",
       "      <td>3127.750000</td>\n",
       "      <td>1533.000000</td>\n",
       "      <td>2153.000000</td>\n",
       "      <td>742.250000</td>\n",
       "      <td>256.750000</td>\n",
       "      <td>408.250000</td>\n",
       "    </tr>\n",
       "    <tr>\n",
       "      <th>50%</th>\n",
       "      <td>1.000000</td>\n",
       "      <td>3.000000</td>\n",
       "      <td>8504.000000</td>\n",
       "      <td>3627.000000</td>\n",
       "      <td>4755.500000</td>\n",
       "      <td>1526.000000</td>\n",
       "      <td>816.500000</td>\n",
       "      <td>965.500000</td>\n",
       "    </tr>\n",
       "    <tr>\n",
       "      <th>75%</th>\n",
       "      <td>2.000000</td>\n",
       "      <td>3.000000</td>\n",
       "      <td>16933.750000</td>\n",
       "      <td>7190.250000</td>\n",
       "      <td>10655.750000</td>\n",
       "      <td>3554.250000</td>\n",
       "      <td>3922.000000</td>\n",
       "      <td>1820.250000</td>\n",
       "    </tr>\n",
       "    <tr>\n",
       "      <th>max</th>\n",
       "      <td>2.000000</td>\n",
       "      <td>3.000000</td>\n",
       "      <td>112151.000000</td>\n",
       "      <td>73498.000000</td>\n",
       "      <td>92780.000000</td>\n",
       "      <td>60869.000000</td>\n",
       "      <td>40827.000000</td>\n",
       "      <td>47943.000000</td>\n",
       "    </tr>\n",
       "  </tbody>\n",
       "</table>\n",
       "</div>"
      ],
      "text/plain": [
       "          Channel      Region          Fresh          Milk       Grocery  \\\n",
       "count  440.000000  440.000000     440.000000    440.000000    440.000000   \n",
       "mean     1.322727    2.543182   12000.297727   5796.265909   7951.277273   \n",
       "std      0.468052    0.774272   12647.328865   7380.377175   9503.162829   \n",
       "min      1.000000    1.000000       3.000000     55.000000      3.000000   \n",
       "25%      1.000000    2.000000    3127.750000   1533.000000   2153.000000   \n",
       "50%      1.000000    3.000000    8504.000000   3627.000000   4755.500000   \n",
       "75%      2.000000    3.000000   16933.750000   7190.250000  10655.750000   \n",
       "max      2.000000    3.000000  112151.000000  73498.000000  92780.000000   \n",
       "\n",
       "             Frozen  Detergents_Paper    Delicassen  \n",
       "count    440.000000        440.000000    440.000000  \n",
       "mean    3071.931818       2881.493182   1524.870455  \n",
       "std     4854.673333       4767.854448   2820.105937  \n",
       "min       25.000000          3.000000      3.000000  \n",
       "25%      742.250000        256.750000    408.250000  \n",
       "50%     1526.000000        816.500000    965.500000  \n",
       "75%     3554.250000       3922.000000   1820.250000  \n",
       "max    60869.000000      40827.000000  47943.000000  "
      ]
     },
     "execution_count": 6,
     "metadata": {},
     "output_type": "execute_result"
    }
   ],
   "source": [
    "customers.describe()\n"
   ]
  },
  {
   "cell_type": "code",
   "execution_count": 7,
   "metadata": {},
   "outputs": [
    {
     "data": {
      "text/plain": [
       "<matplotlib.axes._subplots.AxesSubplot at 0x20d596893d0>"
      ]
     },
     "execution_count": 7,
     "metadata": {},
     "output_type": "execute_result"
    },
    {
     "data": {
      "image/png": "[encoded data removed]",
      "text/plain": [
       "<Figure size 792x648 with 2 Axes>"
      ]
     },
     "metadata": {
      "needs_background": "light"
     },
     "output_type": "display_data"
    }
   ],
   "source": [
    "import seaborn as sns\n",
    "import matplotlib.pyplot as plt\n",
    "\n",
    "corr = customers.corr()\n",
    "\n",
    "mask = np.triu(np.ones_like(corr, dtype=bool))\n",
    "\n",
    "f, ax = plt.subplots(figsize=(11, 9))\n",
    "\n",
    "cmap = sns.diverging_palette(230, 20, as_cmap=True)\n",
    "\n",
    "sns.heatmap(corr, mask=mask, cmap=cmap, vmax=1,vmin=-1, center=0,\n",
    "            square=True, linewidths=.5, cbar_kws={\"shrink\": .5},annot = True)"
   ]
  },
  {
   "cell_type": "code",
   "execution_count": 8,
   "metadata": {},
   "outputs": [
    {
     "data": {
      "text/plain": [
       "Channel              0.760951\n",
       "Region              -1.283627\n",
       "Fresh                2.561323\n",
       "Milk                 4.053755\n",
       "Grocery              3.587429\n",
       "Frozen               5.907986\n",
       "Detergents_Paper     3.631851\n",
       "Delicassen          11.151586\n",
       "dtype: float64"
      ]
     },
     "execution_count": 8,
     "metadata": {},
     "output_type": "execute_result"
    }
   ],
   "source": [
    "customers.skew()\n"
   ]
  },
  {
   "cell_type": "code",
   "execution_count": 9,
   "metadata": {},
   "outputs": [
    {
     "name": "stdout",
     "output_type": "stream",
     "text": [
      "[1035656, 633018, 779319, 379590, 388683, 188759]\n",
      "[19.61, 24.82, 22.28, 28.08, 30.66, 28.13]\n"
     ]
    }
   ],
   "source": [
    "c = customers.drop(['Channel','Region'],axis=1)\n",
    "\n",
    "top20total=[]\n",
    "def top20sum():\n",
    "    for col in c.columns:\n",
    "        top20=c.sort_values(by=col,ascending=False)\n",
    "        top20=top20[col][:20].sum()\n",
    "        top20total.append(top20)\n",
    "top20sum()\n",
    "\n",
    "top20totalpercent=[]\n",
    "\n",
    "def top20percent():\n",
    "    for col in c.columns:\n",
    "        top20=c.sort_values(by=col,ascending=False)\n",
    "        top20=((top20[col][:20].sum())/top20[col].sum())*100\n",
    "        top20totalpercent.append(round(top20,2))\n",
    "\n",
    "top20percent()        \n",
    "print(top20total)\n",
    "print(top20totalpercent)"
   ]
  },
  {
   "cell_type": "code",
   "execution_count": 10,
   "metadata": {},
   "outputs": [
    {
     "data": {
      "text/html": [
       "<div>\n",
       "<style scoped>\n",
       "    .dataframe tbody tr th:only-of-type {\n",
       "        vertical-align: middle;\n",
       "    }\n",
       "\n",
       "    .dataframe tbody tr th {\n",
       "        vertical-align: top;\n",
       "    }\n",
       "\n",
       "    .dataframe thead th {\n",
       "        text-align: right;\n",
       "    }\n",
       "</style>\n",
       "<table border=\"1\" class=\"dataframe\">\n",
       "  <thead>\n",
       "    <tr style=\"text-align: right;\">\n",
       "      <th></th>\n",
       "      <th>Fresh</th>\n",
       "      <th>Milk</th>\n",
       "      <th>Grocery</th>\n",
       "      <th>Frozen</th>\n",
       "      <th>Detergents_Paper</th>\n",
       "      <th>Delicassen</th>\n",
       "    </tr>\n",
       "  </thead>\n",
       "  <tbody>\n",
       "    <tr>\n",
       "      <th>0</th>\n",
       "      <td>12669.00</td>\n",
       "      <td>9656.00</td>\n",
       "      <td>7561.00</td>\n",
       "      <td>214.00</td>\n",
       "      <td>2674.00</td>\n",
       "      <td>1338.00</td>\n",
       "    </tr>\n",
       "    <tr>\n",
       "      <th>1</th>\n",
       "      <td>7057.00</td>\n",
       "      <td>9810.00</td>\n",
       "      <td>9568.00</td>\n",
       "      <td>1762.00</td>\n",
       "      <td>3293.00</td>\n",
       "      <td>1776.00</td>\n",
       "    </tr>\n",
       "    <tr>\n",
       "      <th>2</th>\n",
       "      <td>6353.00</td>\n",
       "      <td>8808.00</td>\n",
       "      <td>7684.00</td>\n",
       "      <td>2405.00</td>\n",
       "      <td>3516.00</td>\n",
       "      <td>7844.00</td>\n",
       "    </tr>\n",
       "    <tr>\n",
       "      <th>3</th>\n",
       "      <td>13265.00</td>\n",
       "      <td>1196.00</td>\n",
       "      <td>4221.00</td>\n",
       "      <td>6404.00</td>\n",
       "      <td>507.00</td>\n",
       "      <td>1788.00</td>\n",
       "    </tr>\n",
       "    <tr>\n",
       "      <th>4</th>\n",
       "      <td>22615.00</td>\n",
       "      <td>5410.00</td>\n",
       "      <td>7198.00</td>\n",
       "      <td>3915.00</td>\n",
       "      <td>1777.00</td>\n",
       "      <td>5185.00</td>\n",
       "    </tr>\n",
       "    <tr>\n",
       "      <th>...</th>\n",
       "      <td>...</td>\n",
       "      <td>...</td>\n",
       "      <td>...</td>\n",
       "      <td>...</td>\n",
       "      <td>...</td>\n",
       "      <td>...</td>\n",
       "    </tr>\n",
       "    <tr>\n",
       "      <th>439</th>\n",
       "      <td>2787.00</td>\n",
       "      <td>1698.00</td>\n",
       "      <td>2510.00</td>\n",
       "      <td>65.00</td>\n",
       "      <td>477.00</td>\n",
       "      <td>52.00</td>\n",
       "    </tr>\n",
       "    <tr>\n",
       "      <th>Total</th>\n",
       "      <td>5280131.00</td>\n",
       "      <td>2550357.00</td>\n",
       "      <td>3498562.00</td>\n",
       "      <td>1351650.00</td>\n",
       "      <td>1267857.00</td>\n",
       "      <td>670943.00</td>\n",
       "    </tr>\n",
       "    <tr>\n",
       "      <th>80Percent_Total</th>\n",
       "      <td>4224104.80</td>\n",
       "      <td>2040285.60</td>\n",
       "      <td>2798849.60</td>\n",
       "      <td>1081320.00</td>\n",
       "      <td>1014285.60</td>\n",
       "      <td>536754.40</td>\n",
       "    </tr>\n",
       "    <tr>\n",
       "      <th>top20_total</th>\n",
       "      <td>1035656.00</td>\n",
       "      <td>633018.00</td>\n",
       "      <td>779319.00</td>\n",
       "      <td>379590.00</td>\n",
       "      <td>388683.00</td>\n",
       "      <td>188759.00</td>\n",
       "    </tr>\n",
       "    <tr>\n",
       "      <th>top20_percent_total</th>\n",
       "      <td>19.61</td>\n",
       "      <td>24.82</td>\n",
       "      <td>22.28</td>\n",
       "      <td>28.08</td>\n",
       "      <td>30.66</td>\n",
       "      <td>28.13</td>\n",
       "    </tr>\n",
       "  </tbody>\n",
       "</table>\n",
       "<p>444 rows × 6 columns</p>\n",
       "</div>"
      ],
      "text/plain": [
       "                          Fresh        Milk     Grocery      Frozen  \\\n",
       "0                      12669.00     9656.00     7561.00      214.00   \n",
       "1                       7057.00     9810.00     9568.00     1762.00   \n",
       "2                       6353.00     8808.00     7684.00     2405.00   \n",
       "3                      13265.00     1196.00     4221.00     6404.00   \n",
       "4                      22615.00     5410.00     7198.00     3915.00   \n",
       "...                         ...         ...         ...         ...   \n",
       "439                     2787.00     1698.00     2510.00       65.00   \n",
       "Total                5280131.00  2550357.00  3498562.00  1351650.00   \n",
       "80Percent_Total      4224104.80  2040285.60  2798849.60  1081320.00   \n",
       "top20_total          1035656.00   633018.00   779319.00   379590.00   \n",
       "top20_percent_total       19.61       24.82       22.28       28.08   \n",
       "\n",
       "                     Detergents_Paper  Delicassen  \n",
       "0                             2674.00     1338.00  \n",
       "1                             3293.00     1776.00  \n",
       "2                             3516.00     7844.00  \n",
       "3                              507.00     1788.00  \n",
       "4                             1777.00     5185.00  \n",
       "...                               ...         ...  \n",
       "439                            477.00       52.00  \n",
       "Total                      1267857.00   670943.00  \n",
       "80Percent_Total            1014285.60   536754.40  \n",
       "top20_total                 388683.00   188759.00  \n",
       "top20_percent_total             30.66       28.13  \n",
       "\n",
       "[444 rows x 6 columns]"
      ]
     },
     "execution_count": 10,
     "metadata": {},
     "output_type": "execute_result"
    }
   ],
   "source": [
    "c.loc['Total']= c[:440].sum()\n",
    "c.loc['80Percent_Total']= (c[:440].sum())*0.80\n",
    "c.loc['top20_total'] = top20total\n",
    "c.loc['top20_percent_total'] = top20totalpercent\n",
    "c\n"
   ]
  },
  {
   "cell_type": "code",
   "execution_count": 11,
   "metadata": {},
   "outputs": [],
   "source": [
    "# Your observations here\n",
    "\n",
    "# Regarding Pareto Principle this doesnt show up in this case, as we can see the top 20 accounts for roughly 25% of total sales \n",
    "#            of each column, far from the 80% principle\n"
   ]
  },
  {
   "cell_type": "markdown",
   "metadata": {},
   "source": [
    "# Challenge 2 - Data Cleaning and Transformation\n",
    "\n",
    "If your conclusion from the previous challenge is the data need cleaning/transformation, do it in the cells below. However, if your conclusion is the data need not be cleaned or transformed, feel free to skip this challenge. But if you do choose the latter, please provide rationale."
   ]
  },
  {
   "cell_type": "code",
   "execution_count": 12,
   "metadata": {},
   "outputs": [
    {
     "data": {
      "text/plain": [
       "<matplotlib.axes._subplots.AxesSubplot at 0x20d59a50820>"
      ]
     },
     "execution_count": 12,
     "metadata": {},
     "output_type": "execute_result"
    },
    {
     "data": {
      "image/png": "[encoded data removed]",
      "text/plain": [
       "<Figure size 792x648 with 2 Axes>"
      ]
     },
     "metadata": {
      "needs_background": "light"
     },
     "output_type": "display_data"
    }
   ],
   "source": [
    "# Your code here\n",
    "# Im removing Grocery collumn as it has a high correlation ( 0.92 ) with Detergents Paper\n",
    "#customers1= customers\n",
    "\n",
    "#customers=customers.drop('Grocery',axis=1)\n",
    "\n",
    "corr = customers.corr()\n",
    "mask = np.triu(np.ones_like(corr, dtype=bool))\n",
    "f, ax = plt.subplots(figsize=(11, 9))\n",
    "cmap = sns.diverging_palette(230, 20, as_cmap=True)\n",
    "sns.heatmap(corr, mask=mask, cmap=cmap, vmax=1,vmin=-1, center=0,\n",
    "            square=True, linewidths=.5, cbar_kws={\"shrink\": .5},annot = True)\n",
    "\n",
    "#customers1"
   ]
  },
  {
   "cell_type": "code",
   "execution_count": 13,
   "metadata": {},
   "outputs": [
    {
     "data": {
      "text/plain": [
       "<matplotlib.axes._subplots.AxesSubplot at 0x20d59a2d2e0>"
      ]
     },
     "execution_count": 13,
     "metadata": {},
     "output_type": "execute_result"
    },
    {
     "data": {
      "image/png": "[encoded data removed]",
      "text/plain": [
       "<Figure size 792x648 with 1 Axes>"
      ]
     },
     "metadata": {
      "needs_background": "light"
     },
     "output_type": "display_data"
    }
   ],
   "source": [
    "f, ax = plt.subplots(figsize=(11, 9))\n",
    "customers.boxplot()\n"
   ]
  },
  {
   "cell_type": "code",
   "execution_count": 14,
   "metadata": {},
   "outputs": [],
   "source": [
    "from scipy import stats\n",
    "\n",
    "customers = customers[(np.abs(stats.zscore(customers)) < 3).all(axis=1)]\n",
    "#customers1 =customers[(np.abs(stats.zscore(customers)) < 3).all(axis=1)]"
   ]
  },
  {
   "cell_type": "code",
   "execution_count": 15,
   "metadata": {},
   "outputs": [
    {
     "data": {
      "text/plain": [
       "<matplotlib.axes._subplots.AxesSubplot at 0x20d5a3d03a0>"
      ]
     },
     "execution_count": 15,
     "metadata": {},
     "output_type": "execute_result"
    },
    {
     "data": {
      "image/png": "[encoded data removed]",
      "text/plain": [
       "<Figure size 792x648 with 1 Axes>"
      ]
     },
     "metadata": {
      "needs_background": "light"
     },
     "output_type": "display_data"
    }
   ],
   "source": [
    "f, ax = plt.subplots(figsize=(11, 9))\n",
    "customers.boxplot()"
   ]
  },
  {
   "cell_type": "code",
   "execution_count": 16,
   "metadata": {},
   "outputs": [],
   "source": [
    "# Your comment here\n",
    "#customers1"
   ]
  },
  {
   "cell_type": "markdown",
   "metadata": {},
   "source": [
    "# Challenge 3 - Data Preprocessing\n",
    "\n",
    "One problem with the dataset is the value ranges are remarkably different across various categories (e.g. `Fresh` and `Grocery` compared to `Detergents_Paper` and `Delicassen`). If you made this observation in the first challenge, you've done a great job! This means you not only completed the bonus questions in the previous Supervised Learning lab but also researched deep into [*feature scaling*](https://en.wikipedia.org/wiki/Feature_scaling). Keep on the good work!\n",
    "\n",
    "Diverse value ranges in different features could cause issues in our clustering. The way to reduce the problem is through feature scaling. We'll use this technique again with this dataset.\n",
    "\n",
    "#### We will use the `StandardScaler` from `sklearn.preprocessing` and scale our data. Read more about `StandardScaler` [here](https://scikit-learn.org/stable/modules/generated/sklearn.preprocessing.StandardScaler.html#sklearn.preprocessing.StandardScaler).\n",
    "\n",
    "*After scaling your data, assign the transformed data to a new variable `customers_scale`.*"
   ]
  },
  {
   "cell_type": "code",
   "execution_count": 17,
   "metadata": {},
   "outputs": [
    {
     "data": {
      "text/html": [
       "<div>\n",
       "<style scoped>\n",
       "    .dataframe tbody tr th:only-of-type {\n",
       "        vertical-align: middle;\n",
       "    }\n",
       "\n",
       "    .dataframe tbody tr th {\n",
       "        vertical-align: top;\n",
       "    }\n",
       "\n",
       "    .dataframe thead th {\n",
       "        text-align: right;\n",
       "    }\n",
       "</style>\n",
       "<table border=\"1\" class=\"dataframe\">\n",
       "  <thead>\n",
       "    <tr style=\"text-align: right;\">\n",
       "      <th></th>\n",
       "      <th>Channel</th>\n",
       "      <th>Region</th>\n",
       "      <th>Fresh</th>\n",
       "      <th>Milk</th>\n",
       "      <th>Grocery</th>\n",
       "      <th>Frozen</th>\n",
       "      <th>Detergents_Paper</th>\n",
       "      <th>Delicassen</th>\n",
       "    </tr>\n",
       "  </thead>\n",
       "  <tbody>\n",
       "    <tr>\n",
       "      <th>0</th>\n",
       "      <td>1.478044</td>\n",
       "      <td>0.587722</td>\n",
       "      <td>0.199569</td>\n",
       "      <td>1.051409</td>\n",
       "      <td>0.115837</td>\n",
       "      <td>-0.801844</td>\n",
       "      <td>0.093798</td>\n",
       "      <td>0.082291</td>\n",
       "    </tr>\n",
       "    <tr>\n",
       "      <th>1</th>\n",
       "      <td>1.478044</td>\n",
       "      <td>0.587722</td>\n",
       "      <td>-0.372655</td>\n",
       "      <td>1.085254</td>\n",
       "      <td>0.427079</td>\n",
       "      <td>-0.270462</td>\n",
       "      <td>0.286944</td>\n",
       "      <td>0.442510</td>\n",
       "    </tr>\n",
       "    <tr>\n",
       "      <th>2</th>\n",
       "      <td>1.478044</td>\n",
       "      <td>0.587722</td>\n",
       "      <td>-0.444438</td>\n",
       "      <td>0.865042</td>\n",
       "      <td>0.134911</td>\n",
       "      <td>-0.049739</td>\n",
       "      <td>0.356526</td>\n",
       "      <td>5.432937</td>\n",
       "    </tr>\n",
       "    <tr>\n",
       "      <th>3</th>\n",
       "      <td>-0.676570</td>\n",
       "      <td>0.587722</td>\n",
       "      <td>0.260340</td>\n",
       "      <td>-0.807866</td>\n",
       "      <td>-0.402125</td>\n",
       "      <td>1.322997</td>\n",
       "      <td>-0.582369</td>\n",
       "      <td>0.452379</td>\n",
       "    </tr>\n",
       "    <tr>\n",
       "      <th>4</th>\n",
       "      <td>1.478044</td>\n",
       "      <td>0.587722</td>\n",
       "      <td>1.213706</td>\n",
       "      <td>0.118255</td>\n",
       "      <td>0.059543</td>\n",
       "      <td>0.468598</td>\n",
       "      <td>-0.186092</td>\n",
       "      <td>3.246130</td>\n",
       "    </tr>\n",
       "    <tr>\n",
       "      <th>...</th>\n",
       "      <td>...</td>\n",
       "      <td>...</td>\n",
       "      <td>...</td>\n",
       "      <td>...</td>\n",
       "      <td>...</td>\n",
       "      <td>...</td>\n",
       "      <td>...</td>\n",
       "      <td>...</td>\n",
       "    </tr>\n",
       "    <tr>\n",
       "      <th>409</th>\n",
       "      <td>-0.676570</td>\n",
       "      <td>0.587722</td>\n",
       "      <td>1.936429</td>\n",
       "      <td>1.577764</td>\n",
       "      <td>1.428729</td>\n",
       "      <td>3.633548</td>\n",
       "      <td>-0.683778</td>\n",
       "      <td>0.794505</td>\n",
       "    </tr>\n",
       "    <tr>\n",
       "      <th>410</th>\n",
       "      <td>-0.676570</td>\n",
       "      <td>0.587722</td>\n",
       "      <td>2.907639</td>\n",
       "      <td>-0.756220</td>\n",
       "      <td>-0.938230</td>\n",
       "      <td>0.672844</td>\n",
       "      <td>-0.711549</td>\n",
       "      <td>0.911288</td>\n",
       "    </tr>\n",
       "    <tr>\n",
       "      <th>411</th>\n",
       "      <td>1.478044</td>\n",
       "      <td>0.587722</td>\n",
       "      <td>0.389426</td>\n",
       "      <td>2.333122</td>\n",
       "      <td>3.633321</td>\n",
       "      <td>-0.725295</td>\n",
       "      <td>3.890255</td>\n",
       "      <td>0.517350</td>\n",
       "    </tr>\n",
       "    <tr>\n",
       "      <th>412</th>\n",
       "      <td>-0.676570</td>\n",
       "      <td>0.587722</td>\n",
       "      <td>-0.043004</td>\n",
       "      <td>-0.635345</td>\n",
       "      <td>-0.710575</td>\n",
       "      <td>-0.518989</td>\n",
       "      <td>-0.688147</td>\n",
       "      <td>0.729534</td>\n",
       "    </tr>\n",
       "    <tr>\n",
       "      <th>413</th>\n",
       "      <td>-0.676570</td>\n",
       "      <td>0.587722</td>\n",
       "      <td>-0.808043</td>\n",
       "      <td>-0.697540</td>\n",
       "      <td>-0.667463</td>\n",
       "      <td>-0.852991</td>\n",
       "      <td>-0.591730</td>\n",
       "      <td>-0.975337</td>\n",
       "    </tr>\n",
       "  </tbody>\n",
       "</table>\n",
       "<p>414 rows × 8 columns</p>\n",
       "</div>"
      ],
      "text/plain": [
       "      Channel    Region     Fresh      Milk   Grocery    Frozen  \\\n",
       "0    1.478044  0.587722  0.199569  1.051409  0.115837 -0.801844   \n",
       "1    1.478044  0.587722 -0.372655  1.085254  0.427079 -0.270462   \n",
       "2    1.478044  0.587722 -0.444438  0.865042  0.134911 -0.049739   \n",
       "3   -0.676570  0.587722  0.260340 -0.807866 -0.402125  1.322997   \n",
       "4    1.478044  0.587722  1.213706  0.118255  0.059543  0.468598   \n",
       "..        ...       ...       ...       ...       ...       ...   \n",
       "409 -0.676570  0.587722  1.936429  1.577764  1.428729  3.633548   \n",
       "410 -0.676570  0.587722  2.907639 -0.756220 -0.938230  0.672844   \n",
       "411  1.478044  0.587722  0.389426  2.333122  3.633321 -0.725295   \n",
       "412 -0.676570  0.587722 -0.043004 -0.635345 -0.710575 -0.518989   \n",
       "413 -0.676570  0.587722 -0.808043 -0.697540 -0.667463 -0.852991   \n",
       "\n",
       "     Detergents_Paper  Delicassen  \n",
       "0            0.093798    0.082291  \n",
       "1            0.286944    0.442510  \n",
       "2            0.356526    5.432937  \n",
       "3           -0.582369    0.452379  \n",
       "4           -0.186092    3.246130  \n",
       "..                ...         ...  \n",
       "409         -0.683778    0.794505  \n",
       "410         -0.711549    0.911288  \n",
       "411          3.890255    0.517350  \n",
       "412         -0.688147    0.729534  \n",
       "413         -0.591730   -0.975337  \n",
       "\n",
       "[414 rows x 8 columns]"
      ]
     },
     "execution_count": 17,
     "metadata": {},
     "output_type": "execute_result"
    }
   ],
   "source": [
    "# Your import here:\n",
    "\n",
    "from sklearn.preprocessing import StandardScaler\n",
    "\n",
    "scale = StandardScaler().fit(customers)\n",
    "#scale1 = StandardScaler().fit(customers1)\n",
    "\n",
    "\n",
    "# Your code here:\n",
    "#customers1_scale = scale1.transform(customers1)\n",
    "#customers1_scale = pd.DataFrame(customers1_scale, columns = customers1.columns)\n",
    "\n",
    "\n",
    "customers_scale = scale.transform(customers)\n",
    "customers_scale = pd.DataFrame(customers_scale, columns = customers.columns)\n",
    "customers_scale\n"
   ]
  },
  {
   "cell_type": "markdown",
   "metadata": {},
   "source": [
    "# Challenge 4 - Data Clustering with K-Means\n",
    "\n",
    "Now let's cluster the data with K-Means first. Initiate the K-Means model, then fit your scaled data. In the data returned from the `.fit` method, there is an attribute called `labels_` which is the cluster number assigned to each data record. What you can do is to assign these labels back to `customers` in a new column called `customers['labels']`. Then you'll see the cluster results of the original data."
   ]
  },
  {
   "cell_type": "code",
   "execution_count": 18,
   "metadata": {
    "scrolled": true
   },
   "outputs": [
    {
     "data": {
      "text/html": [
       "<div>\n",
       "<style scoped>\n",
       "    .dataframe tbody tr th:only-of-type {\n",
       "        vertical-align: middle;\n",
       "    }\n",
       "\n",
       "    .dataframe tbody tr th {\n",
       "        vertical-align: top;\n",
       "    }\n",
       "\n",
       "    .dataframe thead th {\n",
       "        text-align: right;\n",
       "    }\n",
       "</style>\n",
       "<table border=\"1\" class=\"dataframe\">\n",
       "  <thead>\n",
       "    <tr style=\"text-align: right;\">\n",
       "      <th></th>\n",
       "      <th>Channel</th>\n",
       "      <th>Region</th>\n",
       "      <th>Fresh</th>\n",
       "      <th>Milk</th>\n",
       "      <th>Grocery</th>\n",
       "      <th>Frozen</th>\n",
       "      <th>Detergents_Paper</th>\n",
       "      <th>Delicassen</th>\n",
       "      <th>kmeans_labels</th>\n",
       "    </tr>\n",
       "  </thead>\n",
       "  <tbody>\n",
       "    <tr>\n",
       "      <th>0</th>\n",
       "      <td>1.478044</td>\n",
       "      <td>0.587722</td>\n",
       "      <td>0.199569</td>\n",
       "      <td>1.051409</td>\n",
       "      <td>0.115837</td>\n",
       "      <td>-0.801844</td>\n",
       "      <td>0.093798</td>\n",
       "      <td>0.082291</td>\n",
       "      <td>1</td>\n",
       "    </tr>\n",
       "    <tr>\n",
       "      <th>1</th>\n",
       "      <td>1.478044</td>\n",
       "      <td>0.587722</td>\n",
       "      <td>-0.372655</td>\n",
       "      <td>1.085254</td>\n",
       "      <td>0.427079</td>\n",
       "      <td>-0.270462</td>\n",
       "      <td>0.286944</td>\n",
       "      <td>0.442510</td>\n",
       "      <td>1</td>\n",
       "    </tr>\n",
       "    <tr>\n",
       "      <th>2</th>\n",
       "      <td>1.478044</td>\n",
       "      <td>0.587722</td>\n",
       "      <td>-0.444438</td>\n",
       "      <td>0.865042</td>\n",
       "      <td>0.134911</td>\n",
       "      <td>-0.049739</td>\n",
       "      <td>0.356526</td>\n",
       "      <td>5.432937</td>\n",
       "      <td>1</td>\n",
       "    </tr>\n",
       "    <tr>\n",
       "      <th>3</th>\n",
       "      <td>-0.676570</td>\n",
       "      <td>0.587722</td>\n",
       "      <td>0.260340</td>\n",
       "      <td>-0.807866</td>\n",
       "      <td>-0.402125</td>\n",
       "      <td>1.322997</td>\n",
       "      <td>-0.582369</td>\n",
       "      <td>0.452379</td>\n",
       "      <td>2</td>\n",
       "    </tr>\n",
       "    <tr>\n",
       "      <th>4</th>\n",
       "      <td>1.478044</td>\n",
       "      <td>0.587722</td>\n",
       "      <td>1.213706</td>\n",
       "      <td>0.118255</td>\n",
       "      <td>0.059543</td>\n",
       "      <td>0.468598</td>\n",
       "      <td>-0.186092</td>\n",
       "      <td>3.246130</td>\n",
       "      <td>2</td>\n",
       "    </tr>\n",
       "    <tr>\n",
       "      <th>...</th>\n",
       "      <td>...</td>\n",
       "      <td>...</td>\n",
       "      <td>...</td>\n",
       "      <td>...</td>\n",
       "      <td>...</td>\n",
       "      <td>...</td>\n",
       "      <td>...</td>\n",
       "      <td>...</td>\n",
       "      <td>...</td>\n",
       "    </tr>\n",
       "    <tr>\n",
       "      <th>409</th>\n",
       "      <td>-0.676570</td>\n",
       "      <td>0.587722</td>\n",
       "      <td>1.936429</td>\n",
       "      <td>1.577764</td>\n",
       "      <td>1.428729</td>\n",
       "      <td>3.633548</td>\n",
       "      <td>-0.683778</td>\n",
       "      <td>0.794505</td>\n",
       "      <td>2</td>\n",
       "    </tr>\n",
       "    <tr>\n",
       "      <th>410</th>\n",
       "      <td>-0.676570</td>\n",
       "      <td>0.587722</td>\n",
       "      <td>2.907639</td>\n",
       "      <td>-0.756220</td>\n",
       "      <td>-0.938230</td>\n",
       "      <td>0.672844</td>\n",
       "      <td>-0.711549</td>\n",
       "      <td>0.911288</td>\n",
       "      <td>2</td>\n",
       "    </tr>\n",
       "    <tr>\n",
       "      <th>411</th>\n",
       "      <td>1.478044</td>\n",
       "      <td>0.587722</td>\n",
       "      <td>0.389426</td>\n",
       "      <td>2.333122</td>\n",
       "      <td>3.633321</td>\n",
       "      <td>-0.725295</td>\n",
       "      <td>3.890255</td>\n",
       "      <td>0.517350</td>\n",
       "      <td>1</td>\n",
       "    </tr>\n",
       "    <tr>\n",
       "      <th>412</th>\n",
       "      <td>-0.676570</td>\n",
       "      <td>0.587722</td>\n",
       "      <td>-0.043004</td>\n",
       "      <td>-0.635345</td>\n",
       "      <td>-0.710575</td>\n",
       "      <td>-0.518989</td>\n",
       "      <td>-0.688147</td>\n",
       "      <td>0.729534</td>\n",
       "      <td>0</td>\n",
       "    </tr>\n",
       "    <tr>\n",
       "      <th>413</th>\n",
       "      <td>-0.676570</td>\n",
       "      <td>0.587722</td>\n",
       "      <td>-0.808043</td>\n",
       "      <td>-0.697540</td>\n",
       "      <td>-0.667463</td>\n",
       "      <td>-0.852991</td>\n",
       "      <td>-0.591730</td>\n",
       "      <td>-0.975337</td>\n",
       "      <td>0</td>\n",
       "    </tr>\n",
       "  </tbody>\n",
       "</table>\n",
       "<p>414 rows × 9 columns</p>\n",
       "</div>"
      ],
      "text/plain": [
       "      Channel    Region     Fresh      Milk   Grocery    Frozen  \\\n",
       "0    1.478044  0.587722  0.199569  1.051409  0.115837 -0.801844   \n",
       "1    1.478044  0.587722 -0.372655  1.085254  0.427079 -0.270462   \n",
       "2    1.478044  0.587722 -0.444438  0.865042  0.134911 -0.049739   \n",
       "3   -0.676570  0.587722  0.260340 -0.807866 -0.402125  1.322997   \n",
       "4    1.478044  0.587722  1.213706  0.118255  0.059543  0.468598   \n",
       "..        ...       ...       ...       ...       ...       ...   \n",
       "409 -0.676570  0.587722  1.936429  1.577764  1.428729  3.633548   \n",
       "410 -0.676570  0.587722  2.907639 -0.756220 -0.938230  0.672844   \n",
       "411  1.478044  0.587722  0.389426  2.333122  3.633321 -0.725295   \n",
       "412 -0.676570  0.587722 -0.043004 -0.635345 -0.710575 -0.518989   \n",
       "413 -0.676570  0.587722 -0.808043 -0.697540 -0.667463 -0.852991   \n",
       "\n",
       "     Detergents_Paper  Delicassen  kmeans_labels  \n",
       "0            0.093798    0.082291              1  \n",
       "1            0.286944    0.442510              1  \n",
       "2            0.356526    5.432937              1  \n",
       "3           -0.582369    0.452379              2  \n",
       "4           -0.186092    3.246130              2  \n",
       "..                ...         ...            ...  \n",
       "409         -0.683778    0.794505              2  \n",
       "410         -0.711549    0.911288              2  \n",
       "411          3.890255    0.517350              1  \n",
       "412         -0.688147    0.729534              0  \n",
       "413         -0.591730   -0.975337              0  \n",
       "\n",
       "[414 rows x 9 columns]"
      ]
     },
     "execution_count": 18,
     "metadata": {},
     "output_type": "execute_result"
    }
   ],
   "source": [
    "# Your code here:\n",
    "\n",
    "from sklearn.cluster import KMeans\n",
    "kmeans = KMeans(n_clusters=4, random_state=0).fit(customers_scale)\n",
    "customers_scale['kmeans_labels']= kmeans.labels_\n",
    "customers_scale\n",
    "\n",
    "\n",
    "#customers1_scale['kmeans_labels']= kmeans.labels_\n",
    "\n"
   ]
  },
  {
   "cell_type": "markdown",
   "metadata": {},
   "source": [
    "Count the values in `labels`."
   ]
  },
  {
   "cell_type": "code",
   "execution_count": 19,
   "metadata": {},
   "outputs": [
    {
     "data": {
      "text/plain": [
       "0    161\n",
       "1    119\n",
       "3     77\n",
       "2     57\n",
       "Name: kmeans_labels, dtype: int64"
      ]
     },
     "execution_count": 19,
     "metadata": {},
     "output_type": "execute_result"
    }
   ],
   "source": [
    "# Your code here:\n",
    "\n",
    "#There will as many as I initialize on the cell above , on n_clusters variable\n",
    "\n",
    "customers_scale['kmeans_labels'].value_counts()"
   ]
  },
  {
   "cell_type": "markdown",
   "metadata": {},
   "source": [
    "# Challenge 5 - Data Clustering with DBSCAN\n",
    "\n",
    "Now let's cluster the data using DBSCAN. Use `DBSCAN(eps=0.5)` to initiate the model, then fit your scaled data. In the data returned from the `.fit` method, assign the `labels_` back to `customers['labels_DBSCAN']`. Now your original data have two labels, one from K-Means and the other from DBSCAN."
   ]
  },
  {
   "cell_type": "code",
   "execution_count": 42,
   "metadata": {
    "scrolled": true
   },
   "outputs": [
    {
     "data": {
      "text/html": [
       "<div>\n",
       "<style scoped>\n",
       "    .dataframe tbody tr th:only-of-type {\n",
       "        vertical-align: middle;\n",
       "    }\n",
       "\n",
       "    .dataframe tbody tr th {\n",
       "        vertical-align: top;\n",
       "    }\n",
       "\n",
       "    .dataframe thead th {\n",
       "        text-align: right;\n",
       "    }\n",
       "</style>\n",
       "<table border=\"1\" class=\"dataframe\">\n",
       "  <thead>\n",
       "    <tr style=\"text-align: right;\">\n",
       "      <th></th>\n",
       "      <th>Channel</th>\n",
       "      <th>Region</th>\n",
       "      <th>Fresh</th>\n",
       "      <th>Milk</th>\n",
       "      <th>Grocery</th>\n",
       "      <th>Frozen</th>\n",
       "      <th>Detergents_Paper</th>\n",
       "      <th>Delicassen</th>\n",
       "      <th>kmeans_labels</th>\n",
       "      <th>dbscan_labels</th>\n",
       "    </tr>\n",
       "  </thead>\n",
       "  <tbody>\n",
       "    <tr>\n",
       "      <th>0</th>\n",
       "      <td>1.478044</td>\n",
       "      <td>0.587722</td>\n",
       "      <td>0.199569</td>\n",
       "      <td>1.051409</td>\n",
       "      <td>0.115837</td>\n",
       "      <td>-0.801844</td>\n",
       "      <td>0.093798</td>\n",
       "      <td>0.082291</td>\n",
       "      <td>1</td>\n",
       "      <td>-1</td>\n",
       "    </tr>\n",
       "    <tr>\n",
       "      <th>1</th>\n",
       "      <td>1.478044</td>\n",
       "      <td>0.587722</td>\n",
       "      <td>-0.372655</td>\n",
       "      <td>1.085254</td>\n",
       "      <td>0.427079</td>\n",
       "      <td>-0.270462</td>\n",
       "      <td>0.286944</td>\n",
       "      <td>0.442510</td>\n",
       "      <td>1</td>\n",
       "      <td>-1</td>\n",
       "    </tr>\n",
       "    <tr>\n",
       "      <th>2</th>\n",
       "      <td>1.478044</td>\n",
       "      <td>0.587722</td>\n",
       "      <td>-0.444438</td>\n",
       "      <td>0.865042</td>\n",
       "      <td>0.134911</td>\n",
       "      <td>-0.049739</td>\n",
       "      <td>0.356526</td>\n",
       "      <td>5.432937</td>\n",
       "      <td>1</td>\n",
       "      <td>-1</td>\n",
       "    </tr>\n",
       "    <tr>\n",
       "      <th>3</th>\n",
       "      <td>-0.676570</td>\n",
       "      <td>0.587722</td>\n",
       "      <td>0.260340</td>\n",
       "      <td>-0.807866</td>\n",
       "      <td>-0.402125</td>\n",
       "      <td>1.322997</td>\n",
       "      <td>-0.582369</td>\n",
       "      <td>0.452379</td>\n",
       "      <td>2</td>\n",
       "      <td>-1</td>\n",
       "    </tr>\n",
       "    <tr>\n",
       "      <th>4</th>\n",
       "      <td>1.478044</td>\n",
       "      <td>0.587722</td>\n",
       "      <td>1.213706</td>\n",
       "      <td>0.118255</td>\n",
       "      <td>0.059543</td>\n",
       "      <td>0.468598</td>\n",
       "      <td>-0.186092</td>\n",
       "      <td>3.246130</td>\n",
       "      <td>2</td>\n",
       "      <td>-1</td>\n",
       "    </tr>\n",
       "    <tr>\n",
       "      <th>...</th>\n",
       "      <td>...</td>\n",
       "      <td>...</td>\n",
       "      <td>...</td>\n",
       "      <td>...</td>\n",
       "      <td>...</td>\n",
       "      <td>...</td>\n",
       "      <td>...</td>\n",
       "      <td>...</td>\n",
       "      <td>...</td>\n",
       "      <td>...</td>\n",
       "    </tr>\n",
       "    <tr>\n",
       "      <th>409</th>\n",
       "      <td>-0.676570</td>\n",
       "      <td>0.587722</td>\n",
       "      <td>1.936429</td>\n",
       "      <td>1.577764</td>\n",
       "      <td>1.428729</td>\n",
       "      <td>3.633548</td>\n",
       "      <td>-0.683778</td>\n",
       "      <td>0.794505</td>\n",
       "      <td>2</td>\n",
       "      <td>-1</td>\n",
       "    </tr>\n",
       "    <tr>\n",
       "      <th>410</th>\n",
       "      <td>-0.676570</td>\n",
       "      <td>0.587722</td>\n",
       "      <td>2.907639</td>\n",
       "      <td>-0.756220</td>\n",
       "      <td>-0.938230</td>\n",
       "      <td>0.672844</td>\n",
       "      <td>-0.711549</td>\n",
       "      <td>0.911288</td>\n",
       "      <td>2</td>\n",
       "      <td>-1</td>\n",
       "    </tr>\n",
       "    <tr>\n",
       "      <th>411</th>\n",
       "      <td>1.478044</td>\n",
       "      <td>0.587722</td>\n",
       "      <td>0.389426</td>\n",
       "      <td>2.333122</td>\n",
       "      <td>3.633321</td>\n",
       "      <td>-0.725295</td>\n",
       "      <td>3.890255</td>\n",
       "      <td>0.517350</td>\n",
       "      <td>1</td>\n",
       "      <td>-1</td>\n",
       "    </tr>\n",
       "    <tr>\n",
       "      <th>412</th>\n",
       "      <td>-0.676570</td>\n",
       "      <td>0.587722</td>\n",
       "      <td>-0.043004</td>\n",
       "      <td>-0.635345</td>\n",
       "      <td>-0.710575</td>\n",
       "      <td>-0.518989</td>\n",
       "      <td>-0.688147</td>\n",
       "      <td>0.729534</td>\n",
       "      <td>0</td>\n",
       "      <td>-1</td>\n",
       "    </tr>\n",
       "    <tr>\n",
       "      <th>413</th>\n",
       "      <td>-0.676570</td>\n",
       "      <td>0.587722</td>\n",
       "      <td>-0.808043</td>\n",
       "      <td>-0.697540</td>\n",
       "      <td>-0.667463</td>\n",
       "      <td>-0.852991</td>\n",
       "      <td>-0.591730</td>\n",
       "      <td>-0.975337</td>\n",
       "      <td>0</td>\n",
       "      <td>0</td>\n",
       "    </tr>\n",
       "  </tbody>\n",
       "</table>\n",
       "<p>414 rows × 10 columns</p>\n",
       "</div>"
      ],
      "text/plain": [
       "      Channel    Region     Fresh      Milk   Grocery    Frozen  \\\n",
       "0    1.478044  0.587722  0.199569  1.051409  0.115837 -0.801844   \n",
       "1    1.478044  0.587722 -0.372655  1.085254  0.427079 -0.270462   \n",
       "2    1.478044  0.587722 -0.444438  0.865042  0.134911 -0.049739   \n",
       "3   -0.676570  0.587722  0.260340 -0.807866 -0.402125  1.322997   \n",
       "4    1.478044  0.587722  1.213706  0.118255  0.059543  0.468598   \n",
       "..        ...       ...       ...       ...       ...       ...   \n",
       "409 -0.676570  0.587722  1.936429  1.577764  1.428729  3.633548   \n",
       "410 -0.676570  0.587722  2.907639 -0.756220 -0.938230  0.672844   \n",
       "411  1.478044  0.587722  0.389426  2.333122  3.633321 -0.725295   \n",
       "412 -0.676570  0.587722 -0.043004 -0.635345 -0.710575 -0.518989   \n",
       "413 -0.676570  0.587722 -0.808043 -0.697540 -0.667463 -0.852991   \n",
       "\n",
       "     Detergents_Paper  Delicassen  kmeans_labels  dbscan_labels  \n",
       "0            0.093798    0.082291              1             -1  \n",
       "1            0.286944    0.442510              1             -1  \n",
       "2            0.356526    5.432937              1             -1  \n",
       "3           -0.582369    0.452379              2             -1  \n",
       "4           -0.186092    3.246130              2             -1  \n",
       "..                ...         ...            ...            ...  \n",
       "409         -0.683778    0.794505              2             -1  \n",
       "410         -0.711549    0.911288              2             -1  \n",
       "411          3.890255    0.517350              1             -1  \n",
       "412         -0.688147    0.729534              0             -1  \n",
       "413         -0.591730   -0.975337              0              0  \n",
       "\n",
       "[414 rows x 10 columns]"
      ]
     },
     "execution_count": 42,
     "metadata": {},
     "output_type": "execute_result"
    }
   ],
   "source": [
    "# Your code here\n",
    "\n",
    "from sklearn.cluster import DBSCAN\n",
    "\n",
    "dbscan = DBSCAN(eps=0.5,min_samples=5).fit(customers_scale)\n",
    "customers_scale['dbscan_labels']= dbscan.labels_\n",
    "customers_scale\n",
    "\n",
    "#customers1_scale['dbscan_labels']= dbscan.labels_\n",
    "\n"
   ]
  },
  {
   "cell_type": "markdown",
   "metadata": {},
   "source": [
    "Count the values in `labels_DBSCAN`."
   ]
  },
  {
   "cell_type": "code",
   "execution_count": 43,
   "metadata": {},
   "outputs": [
    {
     "data": {
      "text/plain": [
       "-1    343\n",
       " 0     71\n",
       "Name: dbscan_labels, dtype: int64"
      ]
     },
     "execution_count": 43,
     "metadata": {},
     "output_type": "execute_result"
    }
   ],
   "source": [
    "# Your code here\n",
    "\n",
    "customers_scale['dbscan_labels'].value_counts()"
   ]
  },
  {
   "cell_type": "markdown",
   "metadata": {},
   "source": [
    "# Challenge 6 - Compare K-Means with DBSCAN\n",
    "\n",
    "Now we want to visually compare how K-Means and DBSCAN have clustered our data. We will create scatter plots for several columns. For each of the following column pairs, plot a scatter plot using `labels` and another using `labels_DBSCAN`. Put them side by side to compare. Which clustering algorithm makes better sense?\n",
    "\n",
    "Columns to visualize:\n",
    "\n",
    "* `Detergents_Paper` as X and `Milk` as y\n",
    "* `Grocery` as X and `Fresh` as y\n",
    "* `Frozen` as X and `Delicassen` as y"
   ]
  },
  {
   "cell_type": "markdown",
   "metadata": {},
   "source": [
    "Visualize `Detergents_Paper` as X and `Milk` as y by `labels` and `labels_DBSCAN` respectively"
   ]
  },
  {
   "cell_type": "code",
   "execution_count": 44,
   "metadata": {},
   "outputs": [
    {
     "data": {
      "image/png": "[encoded data removed]",
      "text/plain": [
       "<Figure size 432x288 with 1 Axes>"
      ]
     },
     "metadata": {
      "needs_background": "light"
     },
     "output_type": "display_data"
    },
    {
     "name": "stderr",
     "output_type": "stream",
     "text": [
      "No handles with labels found to put in legend.\n"
     ]
    },
    {
     "data": {
      "image/png": "[encoded data removed]",
      "text/plain": [
       "<Figure size 432x288 with 1 Axes>"
      ]
     },
     "metadata": {
      "needs_background": "light"
     },
     "output_type": "display_data"
    }
   ],
   "source": [
    "# Your code here:\n",
    "\n",
    "\n",
    "plt.scatter(customers_scale['Detergents_Paper'],customers_scale['Milk'],c=customers_scale['kmeans_labels'],\n",
    "            label=customers_scale['kmeans_labels'])\n",
    "plt.show()\n",
    "plt.legend()\n",
    "plt.scatter(customers_scale['Detergents_Paper'],customers_scale['Milk'],c=customers_scale['dbscan_labels'])\n",
    "plt.show()"
   ]
  },
  {
   "cell_type": "markdown",
   "metadata": {},
   "source": [
    "Visualize `Grocery` as X and `Fresh` as y by `labels` and `labels_DBSCAN` respectively"
   ]
  },
  {
   "cell_type": "code",
   "execution_count": 45,
   "metadata": {},
   "outputs": [
    {
     "data": {
      "image/png": "[encoded data removed]",
      "text/plain": [
       "<Figure size 432x288 with 1 Axes>"
      ]
     },
     "metadata": {
      "needs_background": "light"
     },
     "output_type": "display_data"
    },
    {
     "data": {
      "image/png": "[encoded data removed]",
      "text/plain": [
       "<Figure size 432x288 with 1 Axes>"
      ]
     },
     "metadata": {
      "needs_background": "light"
     },
     "output_type": "display_data"
    }
   ],
   "source": [
    "# Your code here:\n",
    "plt.scatter(customers_scale['Grocery'],customers_scale['Fresh'],c=customers_scale['kmeans_labels'])\n",
    "plt.show()\n",
    "plt.scatter(customers_scale['Grocery'],customers_scale['Fresh'],c=customers_scale['dbscan_labels'])\n",
    "plt.show()"
   ]
  },
  {
   "cell_type": "markdown",
   "metadata": {},
   "source": [
    "Visualize `Frozen` as X and `Delicassen` as y by `labels` and `labels_DBSCAN` respectively"
   ]
  },
  {
   "cell_type": "code",
   "execution_count": 46,
   "metadata": {},
   "outputs": [
    {
     "data": {
      "image/png": "[encoded data removed]",
      "text/plain": [
       "<Figure size 432x288 with 1 Axes>"
      ]
     },
     "metadata": {
      "needs_background": "light"
     },
     "output_type": "display_data"
    },
    {
     "data": {
      "image/png": "[encoded data removed]",
      "text/plain": [
       "<Figure size 432x288 with 1 Axes>"
      ]
     },
     "metadata": {
      "needs_background": "light"
     },
     "output_type": "display_data"
    }
   ],
   "source": [
    "# Your code here:\n",
    "\n",
    "plt.scatter(customers_scale['Frozen'],customers_scale['Delicassen'],c=customers_scale['kmeans_labels'])\n",
    "plt.show()\n",
    "plt.scatter(customers_scale['Frozen'],customers_scale['Delicassen'],c=customers_scale['dbscan_labels'])\n",
    "plt.show()"
   ]
  },
  {
   "cell_type": "markdown",
   "metadata": {},
   "source": [
    "Let's use a groupby to see how the mean differs between the groups. Group `customers` by `labels` and `labels_DBSCAN` respectively and compute the means for all columns."
   ]
  },
  {
   "cell_type": "code",
   "execution_count": 47,
   "metadata": {},
   "outputs": [
    {
     "data": {
      "text/html": [
       "<div>\n",
       "<style scoped>\n",
       "    .dataframe tbody tr th:only-of-type {\n",
       "        vertical-align: middle;\n",
       "    }\n",
       "\n",
       "    .dataframe tbody tr th {\n",
       "        vertical-align: top;\n",
       "    }\n",
       "\n",
       "    .dataframe thead th {\n",
       "        text-align: right;\n",
       "    }\n",
       "</style>\n",
       "<table border=\"1\" class=\"dataframe\">\n",
       "  <thead>\n",
       "    <tr style=\"text-align: right;\">\n",
       "      <th></th>\n",
       "      <th>Channel</th>\n",
       "      <th>Region</th>\n",
       "      <th>Fresh</th>\n",
       "      <th>Milk</th>\n",
       "      <th>Grocery</th>\n",
       "      <th>Frozen</th>\n",
       "      <th>Detergents_Paper</th>\n",
       "      <th>Delicassen</th>\n",
       "      <th>dbscan_labels</th>\n",
       "    </tr>\n",
       "    <tr>\n",
       "      <th>kmeans_labels</th>\n",
       "      <th></th>\n",
       "      <th></th>\n",
       "      <th></th>\n",
       "      <th></th>\n",
       "      <th></th>\n",
       "      <th></th>\n",
       "      <th></th>\n",
       "      <th></th>\n",
       "      <th></th>\n",
       "    </tr>\n",
       "  </thead>\n",
       "  <tbody>\n",
       "    <tr>\n",
       "      <th>0</th>\n",
       "      <td>-0.582891</td>\n",
       "      <td>0.587722</td>\n",
       "      <td>-0.076012</td>\n",
       "      <td>-0.493518</td>\n",
       "      <td>-0.545385</td>\n",
       "      <td>-0.321147</td>\n",
       "      <td>-0.502117</td>\n",
       "      <td>-0.268160</td>\n",
       "      <td>-0.559006</td>\n",
       "    </tr>\n",
       "    <tr>\n",
       "      <th>1</th>\n",
       "      <td>1.387514</td>\n",
       "      <td>0.150357</td>\n",
       "      <td>-0.370228</td>\n",
       "      <td>0.992320</td>\n",
       "      <td>1.223972</td>\n",
       "      <td>-0.425291</td>\n",
       "      <td>1.248685</td>\n",
       "      <td>0.300253</td>\n",
       "      <td>-1.000000</td>\n",
       "    </tr>\n",
       "    <tr>\n",
       "      <th>2</th>\n",
       "      <td>-0.487568</td>\n",
       "      <td>0.222484</td>\n",
       "      <td>1.015770</td>\n",
       "      <td>-0.063894</td>\n",
       "      <td>-0.371253</td>\n",
       "      <td>1.893036</td>\n",
       "      <td>-0.555507</td>\n",
       "      <td>0.516802</td>\n",
       "      <td>-1.000000</td>\n",
       "    </tr>\n",
       "    <tr>\n",
       "      <th>3</th>\n",
       "      <td>-0.564642</td>\n",
       "      <td>-1.625940</td>\n",
       "      <td>-0.020830</td>\n",
       "      <td>-0.454386</td>\n",
       "      <td>-0.476419</td>\n",
       "      <td>-0.072582</td>\n",
       "      <td>-0.468685</td>\n",
       "      <td>-0.285895</td>\n",
       "      <td>-1.000000</td>\n",
       "    </tr>\n",
       "  </tbody>\n",
       "</table>\n",
       "</div>"
      ],
      "text/plain": [
       "                Channel    Region     Fresh      Milk   Grocery    Frozen  \\\n",
       "kmeans_labels                                                               \n",
       "0             -0.582891  0.587722 -0.076012 -0.493518 -0.545385 -0.321147   \n",
       "1              1.387514  0.150357 -0.370228  0.992320  1.223972 -0.425291   \n",
       "2             -0.487568  0.222484  1.015770 -0.063894 -0.371253  1.893036   \n",
       "3             -0.564642 -1.625940 -0.020830 -0.454386 -0.476419 -0.072582   \n",
       "\n",
       "               Detergents_Paper  Delicassen  dbscan_labels  \n",
       "kmeans_labels                                               \n",
       "0                     -0.502117   -0.268160      -0.559006  \n",
       "1                      1.248685    0.300253      -1.000000  \n",
       "2                     -0.555507    0.516802      -1.000000  \n",
       "3                     -0.468685   -0.285895      -1.000000  "
      ]
     },
     "execution_count": 47,
     "metadata": {},
     "output_type": "execute_result"
    }
   ],
   "source": [
    "# Your code here:\n",
    "\n",
    "pd.DataFrame(customers_scale.groupby('kmeans_labels').mean())        \n",
    "\n",
    "\n"
   ]
  },
  {
   "cell_type": "code",
   "execution_count": 48,
   "metadata": {},
   "outputs": [
    {
     "data": {
      "text/html": [
       "<div>\n",
       "<style scoped>\n",
       "    .dataframe tbody tr th:only-of-type {\n",
       "        vertical-align: middle;\n",
       "    }\n",
       "\n",
       "    .dataframe tbody tr th {\n",
       "        vertical-align: top;\n",
       "    }\n",
       "\n",
       "    .dataframe thead th {\n",
       "        text-align: right;\n",
       "    }\n",
       "</style>\n",
       "<table border=\"1\" class=\"dataframe\">\n",
       "  <thead>\n",
       "    <tr style=\"text-align: right;\">\n",
       "      <th></th>\n",
       "      <th>Channel</th>\n",
       "      <th>Region</th>\n",
       "      <th>Fresh</th>\n",
       "      <th>Milk</th>\n",
       "      <th>Grocery</th>\n",
       "      <th>Frozen</th>\n",
       "      <th>Detergents_Paper</th>\n",
       "      <th>Delicassen</th>\n",
       "      <th>kmeans_labels</th>\n",
       "    </tr>\n",
       "    <tr>\n",
       "      <th>dbscan_labels</th>\n",
       "      <th></th>\n",
       "      <th></th>\n",
       "      <th></th>\n",
       "      <th></th>\n",
       "      <th></th>\n",
       "      <th></th>\n",
       "      <th></th>\n",
       "      <th></th>\n",
       "      <th></th>\n",
       "    </tr>\n",
       "  </thead>\n",
       "  <tbody>\n",
       "    <tr>\n",
       "      <th>-1</th>\n",
       "      <td>0.140048</td>\n",
       "      <td>-0.121657</td>\n",
       "      <td>0.094833</td>\n",
       "      <td>0.152425</td>\n",
       "      <td>0.156445</td>\n",
       "      <td>0.079652</td>\n",
       "      <td>0.126763</td>\n",
       "      <td>0.114464</td>\n",
       "      <td>1.35277</td>\n",
       "    </tr>\n",
       "    <tr>\n",
       "      <th>0</th>\n",
       "      <td>-0.676570</td>\n",
       "      <td>0.587722</td>\n",
       "      <td>-0.458137</td>\n",
       "      <td>-0.736363</td>\n",
       "      <td>-0.755784</td>\n",
       "      <td>-0.384800</td>\n",
       "      <td>-0.612390</td>\n",
       "      <td>-0.552974</td>\n",
       "      <td>0.00000</td>\n",
       "    </tr>\n",
       "  </tbody>\n",
       "</table>\n",
       "</div>"
      ],
      "text/plain": [
       "                Channel    Region     Fresh      Milk   Grocery    Frozen  \\\n",
       "dbscan_labels                                                               \n",
       "-1             0.140048 -0.121657  0.094833  0.152425  0.156445  0.079652   \n",
       " 0            -0.676570  0.587722 -0.458137 -0.736363 -0.755784 -0.384800   \n",
       "\n",
       "               Detergents_Paper  Delicassen  kmeans_labels  \n",
       "dbscan_labels                                               \n",
       "-1                     0.126763    0.114464        1.35277  \n",
       " 0                    -0.612390   -0.552974        0.00000  "
      ]
     },
     "execution_count": 48,
     "metadata": {},
     "output_type": "execute_result"
    }
   ],
   "source": [
    "pd.DataFrame(customers_scale.groupby('dbscan_labels').mean())        "
   ]
  },
  {
   "cell_type": "markdown",
   "metadata": {},
   "source": [
    "Which algorithm appears to perform better?"
   ]
  },
  {
   "cell_type": "code",
   "execution_count": 27,
   "metadata": {},
   "outputs": [],
   "source": [
    "# Your observations here\n",
    "\n",
    "# I Would say Dbscan because on kmean we can see an extremelly similar mean between certain clusters, where\n",
    "# on dbscan theres a significant difference between means on each cluster, which tells me that they it makes sense \n",
    "# splitting into diffent clusters"
   ]
  },
  {
   "cell_type": "markdown",
   "metadata": {},
   "source": [
    "# Bonus Challenge 1 - Changing K-Means Number of Clusters\n",
    "\n",
    "As we mentioned earlier, we don't need to worry about the number of clusters with DBSCAN because it automatically decides that based on the parameters we send to it. But with K-Means, we have to supply the `n_clusters` param (if you don't supply `n_clusters`, the algorithm will use `8` by default). You need to know that the optimal number of clusters differs case by case based on the dataset. K-Means can perform badly if the wrong number of clusters is used.\n",
    "\n",
    "In advanced machine learning, data scientists try different numbers of clusters and evaluate the results with statistical measures (read [here](https://en.wikipedia.org/wiki/Cluster_analysis#External_evaluation)). We are not using statistical measures today but we'll use our eyes instead. In the cells below, experiment with different number of clusters and visualize with scatter plots. What number of clusters seems to work best for K-Means?"
   ]
  },
  {
   "cell_type": "code",
   "execution_count": 28,
   "metadata": {},
   "outputs": [],
   "source": [
    "# Your code here"
   ]
  },
  {
   "cell_type": "code",
   "execution_count": 29,
   "metadata": {},
   "outputs": [],
   "source": [
    "# Your comment here"
   ]
  },
  {
   "cell_type": "markdown",
   "metadata": {},
   "source": [
    "# Bonus Challenge 2 - Changing DBSCAN `eps` and `min_samples`\n",
    "\n",
    "Experiment changing the `eps` and `min_samples` params for DBSCAN. See how the results differ with scatter plot visualization."
   ]
  },
  {
   "cell_type": "code",
   "execution_count": 30,
   "metadata": {},
   "outputs": [],
   "source": [
    "# Your code here"
   ]
  },
  {
   "cell_type": "code",
   "execution_count": 31,
   "metadata": {},
   "outputs": [],
   "source": [
    "# Your comment here"
   ]
  }
 ],
 "metadata": {
  "kernelspec": {
   "display_name": "Python 3",
   "language": "python",
   "name": "python3"
  },
  "language_info": {
   "codemirror_mode": {
    "name": "ipython",
    "version": 3
   },
   "file_extension": ".py",
   "mimetype": "text/x-python",
   "name": "python",
   "nbconvert_exporter": "python",
   "pygments_lexer": "ipython3",
   "version": "3.8.3"
  }
 },
 "nbformat": 4,
 "nbformat_minor": 2
}
